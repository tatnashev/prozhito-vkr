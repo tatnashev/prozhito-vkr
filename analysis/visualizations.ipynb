{
  "nbformat": 4,
  "nbformat_minor": 0,
  "metadata": {
    "colab": {
      "name": "illustrations.ipynb",
      "provenance": []
    },
    "kernelspec": {
      "name": "python3",
      "display_name": "Python 3"
    },
    "language_info": {
      "name": "python"
    }
  },
  "cells": [
    {
      "cell_type": "code",
      "execution_count": null,
      "metadata": {
        "id": "tojI9rNzVIfD"
      },
      "outputs": [],
      "source": [
        "import pandas as pd \n",
        "import numpy as np \n",
        "import matplotlib.pyplot as plt \n",
        "import seaborn as sns \n",
        "from collections import defaultdict "
      ]
    },
    {
      "cell_type": "code",
      "source": [
        "!git clone https://github.com/tatnashev/prozhito"
      ],
      "metadata": {
        "colab": {
          "base_uri": "https://localhost:8080/"
        },
        "id": "O7uy0sqPVTAM",
        "outputId": "f61616cc-b3ca-43d7-bb7b-ed9c731a7b29"
      },
      "execution_count": null,
      "outputs": [
        {
          "output_type": "stream",
          "name": "stdout",
          "text": [
            "Cloning into 'prozhito'...\n",
            "remote: Enumerating objects: 63, done.\u001b[K\n",
            "remote: Counting objects: 100% (63/63), done.\u001b[K\n",
            "remote: Compressing objects: 100% (37/37), done.\u001b[K\n",
            "remote: Total 63 (delta 32), reused 50 (delta 22), pack-reused 0\u001b[K\n",
            "Unpacking objects: 100% (63/63), done.\n"
          ]
        }
      ]
    },
    {
      "cell_type": "markdown",
      "source": [
        "## Размечено"
      ],
      "metadata": {
        "id": "VK8LjrNDVpbX"
      }
    },
    {
      "cell_type": "code",
      "source": [
        "label_list = ['B-LOC', 'I-LOC', 'B-ORG', 'I-ORG', 'B-PER', 'I-PER', 'B-FAC', 'I-FAC', 'B-CHAR', 'I-CHAR', 'O']\n",
        "num2bio = dict(enumerate(label_list))"
      ],
      "metadata": {
        "id": "cQ5qa34dGKxa"
      },
      "execution_count": null,
      "outputs": []
    },
    {
      "cell_type": "code",
      "source": [
        "def preprocess_labels(labels): \n",
        "    nums = labels.split(', ')\n",
        "    nums[0] = nums[0][1:] \n",
        "    nums[-1] = nums[-1][:-1]\n",
        "\n",
        "    return list(map(int, nums))"
      ],
      "metadata": {
        "id": "8BAuCeLRGbrA"
      },
      "execution_count": null,
      "outputs": []
    },
    {
      "cell_type": "code",
      "source": [
        "def get_bio(bio_nums): \n",
        "    return [num2bio[elem] for elem in bio_nums]"
      ],
      "metadata": {
        "id": "qW3s0iYDGwAA"
      },
      "execution_count": null,
      "outputs": []
    },
    {
      "cell_type": "code",
      "source": [
        "df_train = pd.read_csv('prozhito/prozhito_data/df_train_prozhito.csv') \n",
        "df_test = pd.read_csv('prozhito/prozhito_data/df_test_prozhito.csv') \n",
        "df_val = pd.read_csv('prozhito/prozhito_data/df_val_prozhito.csv') \n",
        "\n",
        "df_prozhito = pd.concat([df_train, df_test, df_val]) \n",
        "df_prozhito.head()"
      ],
      "metadata": {
        "colab": {
          "base_uri": "https://localhost:8080/",
          "height": 337
        },
        "id": "jBHVfiljES0X",
        "outputId": "160d7d5a-6ba3-4036-a615-4ad0ec5e2c6d"
      },
      "execution_count": null,
      "outputs": [
        {
          "output_type": "execute_result",
          "data": {
            "text/plain": [
              "   Unnamed: 0                                             tokens  \\\n",
              "0           0  У меня большая симпатия к Лукьянину — человек ...   \n",
              "1           2  > Каким приговором , указом каким > Ты здесь ,...   \n",
              "2           3         Подумал , что летом ребята куда затащили .   \n",
              "3           4  Нашел потрясающие материалы о В . М . Брадисе ...   \n",
              "4           5                                      [Без даты . ]   \n",
              "\n",
              "                                             BIO_str  \\\n",
              "0          O O O O O O O O O O O O O O O O O O O O O   \n",
              "1                  O O O O O O O O O O O O O O O O O   \n",
              "2                               O O O O B-CHAR O O O   \n",
              "3  O O O O B-PER I-PER I-PER I-PER I-PER O O B-CH...   \n",
              "4                                            O O O O   \n",
              "\n",
              "                                            BIO_nums  \\\n",
              "0  [10, 10, 10, 10, 10, 10, 10, 10, 10, 10, 10, 1...   \n",
              "1  [10, 10, 10, 10, 10, 10, 10, 10, 10, 10, 10, 1...   \n",
              "2                    [10, 10, 10, 10, 8, 10, 10, 10]   \n",
              "3  [10, 10, 10, 10, 4, 5, 5, 5, 5, 10, 10, 8, 8, ...   \n",
              "4                                   [10, 10, 10, 10]   \n",
              "\n",
              "                                            BIO_list  \n",
              "0  ['O', 'O', 'O', 'O', 'O', 'O', 'O', 'O', 'O', ...  \n",
              "1  ['O', 'O', 'O', 'O', 'O', 'O', 'O', 'O', 'O', ...  \n",
              "2      ['O', 'O', 'O', 'O', 'B-CHAR', 'O', 'O', 'O']  \n",
              "3  ['O', 'O', 'O', 'O', 'B-PER', 'I-PER', 'I-PER'...  \n",
              "4                               ['O', 'O', 'O', 'O']  "
            ],
            "text/html": [
              "\n",
              "  <div id=\"df-8c637ed5-63db-4244-837a-48c49207a873\">\n",
              "    <div class=\"colab-df-container\">\n",
              "      <div>\n",
              "<style scoped>\n",
              "    .dataframe tbody tr th:only-of-type {\n",
              "        vertical-align: middle;\n",
              "    }\n",
              "\n",
              "    .dataframe tbody tr th {\n",
              "        vertical-align: top;\n",
              "    }\n",
              "\n",
              "    .dataframe thead th {\n",
              "        text-align: right;\n",
              "    }\n",
              "</style>\n",
              "<table border=\"1\" class=\"dataframe\">\n",
              "  <thead>\n",
              "    <tr style=\"text-align: right;\">\n",
              "      <th></th>\n",
              "      <th>Unnamed: 0</th>\n",
              "      <th>tokens</th>\n",
              "      <th>BIO_str</th>\n",
              "      <th>BIO_nums</th>\n",
              "      <th>BIO_list</th>\n",
              "    </tr>\n",
              "  </thead>\n",
              "  <tbody>\n",
              "    <tr>\n",
              "      <th>0</th>\n",
              "      <td>0</td>\n",
              "      <td>У меня большая симпатия к Лукьянину — человек ...</td>\n",
              "      <td>O O O O O O O O O O O O O O O O O O O O O</td>\n",
              "      <td>[10, 10, 10, 10, 10, 10, 10, 10, 10, 10, 10, 1...</td>\n",
              "      <td>['O', 'O', 'O', 'O', 'O', 'O', 'O', 'O', 'O', ...</td>\n",
              "    </tr>\n",
              "    <tr>\n",
              "      <th>1</th>\n",
              "      <td>2</td>\n",
              "      <td>&gt; Каким приговором , указом каким &gt; Ты здесь ,...</td>\n",
              "      <td>O O O O O O O O O O O O O O O O O</td>\n",
              "      <td>[10, 10, 10, 10, 10, 10, 10, 10, 10, 10, 10, 1...</td>\n",
              "      <td>['O', 'O', 'O', 'O', 'O', 'O', 'O', 'O', 'O', ...</td>\n",
              "    </tr>\n",
              "    <tr>\n",
              "      <th>2</th>\n",
              "      <td>3</td>\n",
              "      <td>Подумал , что летом ребята куда затащили .</td>\n",
              "      <td>O O O O B-CHAR O O O</td>\n",
              "      <td>[10, 10, 10, 10, 8, 10, 10, 10]</td>\n",
              "      <td>['O', 'O', 'O', 'O', 'B-CHAR', 'O', 'O', 'O']</td>\n",
              "    </tr>\n",
              "    <tr>\n",
              "      <th>3</th>\n",
              "      <td>4</td>\n",
              "      <td>Нашел потрясающие материалы о В . М . Брадисе ...</td>\n",
              "      <td>O O O O B-PER I-PER I-PER I-PER I-PER O O B-CH...</td>\n",
              "      <td>[10, 10, 10, 10, 4, 5, 5, 5, 5, 10, 10, 8, 8, ...</td>\n",
              "      <td>['O', 'O', 'O', 'O', 'B-PER', 'I-PER', 'I-PER'...</td>\n",
              "    </tr>\n",
              "    <tr>\n",
              "      <th>4</th>\n",
              "      <td>5</td>\n",
              "      <td>[Без даты . ]</td>\n",
              "      <td>O O O O</td>\n",
              "      <td>[10, 10, 10, 10]</td>\n",
              "      <td>['O', 'O', 'O', 'O']</td>\n",
              "    </tr>\n",
              "  </tbody>\n",
              "</table>\n",
              "</div>\n",
              "      <button class=\"colab-df-convert\" onclick=\"convertToInteractive('df-8c637ed5-63db-4244-837a-48c49207a873')\"\n",
              "              title=\"Convert this dataframe to an interactive table.\"\n",
              "              style=\"display:none;\">\n",
              "        \n",
              "  <svg xmlns=\"http://www.w3.org/2000/svg\" height=\"24px\"viewBox=\"0 0 24 24\"\n",
              "       width=\"24px\">\n",
              "    <path d=\"M0 0h24v24H0V0z\" fill=\"none\"/>\n",
              "    <path d=\"M18.56 5.44l.94 2.06.94-2.06 2.06-.94-2.06-.94-.94-2.06-.94 2.06-2.06.94zm-11 1L8.5 8.5l.94-2.06 2.06-.94-2.06-.94L8.5 2.5l-.94 2.06-2.06.94zm10 10l.94 2.06.94-2.06 2.06-.94-2.06-.94-.94-2.06-.94 2.06-2.06.94z\"/><path d=\"M17.41 7.96l-1.37-1.37c-.4-.4-.92-.59-1.43-.59-.52 0-1.04.2-1.43.59L10.3 9.45l-7.72 7.72c-.78.78-.78 2.05 0 2.83L4 21.41c.39.39.9.59 1.41.59.51 0 1.02-.2 1.41-.59l7.78-7.78 2.81-2.81c.8-.78.8-2.07 0-2.86zM5.41 20L4 18.59l7.72-7.72 1.47 1.35L5.41 20z\"/>\n",
              "  </svg>\n",
              "      </button>\n",
              "      \n",
              "  <style>\n",
              "    .colab-df-container {\n",
              "      display:flex;\n",
              "      flex-wrap:wrap;\n",
              "      gap: 12px;\n",
              "    }\n",
              "\n",
              "    .colab-df-convert {\n",
              "      background-color: #E8F0FE;\n",
              "      border: none;\n",
              "      border-radius: 50%;\n",
              "      cursor: pointer;\n",
              "      display: none;\n",
              "      fill: #1967D2;\n",
              "      height: 32px;\n",
              "      padding: 0 0 0 0;\n",
              "      width: 32px;\n",
              "    }\n",
              "\n",
              "    .colab-df-convert:hover {\n",
              "      background-color: #E2EBFA;\n",
              "      box-shadow: 0px 1px 2px rgba(60, 64, 67, 0.3), 0px 1px 3px 1px rgba(60, 64, 67, 0.15);\n",
              "      fill: #174EA6;\n",
              "    }\n",
              "\n",
              "    [theme=dark] .colab-df-convert {\n",
              "      background-color: #3B4455;\n",
              "      fill: #D2E3FC;\n",
              "    }\n",
              "\n",
              "    [theme=dark] .colab-df-convert:hover {\n",
              "      background-color: #434B5C;\n",
              "      box-shadow: 0px 1px 3px 1px rgba(0, 0, 0, 0.15);\n",
              "      filter: drop-shadow(0px 1px 2px rgba(0, 0, 0, 0.3));\n",
              "      fill: #FFFFFF;\n",
              "    }\n",
              "  </style>\n",
              "\n",
              "      <script>\n",
              "        const buttonEl =\n",
              "          document.querySelector('#df-8c637ed5-63db-4244-837a-48c49207a873 button.colab-df-convert');\n",
              "        buttonEl.style.display =\n",
              "          google.colab.kernel.accessAllowed ? 'block' : 'none';\n",
              "\n",
              "        async function convertToInteractive(key) {\n",
              "          const element = document.querySelector('#df-8c637ed5-63db-4244-837a-48c49207a873');\n",
              "          const dataTable =\n",
              "            await google.colab.kernel.invokeFunction('convertToInteractive',\n",
              "                                                     [key], {});\n",
              "          if (!dataTable) return;\n",
              "\n",
              "          const docLinkHtml = 'Like what you see? Visit the ' +\n",
              "            '<a target=\"_blank\" href=https://colab.research.google.com/notebooks/data_table.ipynb>data table notebook</a>'\n",
              "            + ' to learn more about interactive tables.';\n",
              "          element.innerHTML = '';\n",
              "          dataTable['output_type'] = 'display_data';\n",
              "          await google.colab.output.renderOutput(dataTable, element);\n",
              "          const docLink = document.createElement('div');\n",
              "          docLink.innerHTML = docLinkHtml;\n",
              "          element.appendChild(docLink);\n",
              "        }\n",
              "      </script>\n",
              "    </div>\n",
              "  </div>\n",
              "  "
            ]
          },
          "metadata": {},
          "execution_count": 8
        }
      ]
    },
    {
      "cell_type": "code",
      "source": [
        "def cnt_entities_razmecheno(df): \n",
        "    cnt_entities_prozhito = defaultdict(int) \n",
        "    for bio in df_prozhito['BIO_str'].values: \n",
        "        tags = bio.split() \n",
        "        for tag in tags: \n",
        "            splitted_tag = tag.split('-') \n",
        "            if splitted_tag[0] == 'B' and splitted_tag[-1] in ['LOC', 'ORG', 'PER']: \n",
        "                cnt_entities_prozhito[splitted_tag[-1]] += 1\n",
        "\n",
        "    return cnt_entities_prozhito"
      ],
      "metadata": {
        "id": "q2NlcpgAZb6Q"
      },
      "execution_count": null,
      "outputs": []
    },
    {
      "cell_type": "code",
      "source": [
        "sns.set()"
      ],
      "metadata": {
        "id": "cpAiVaVLW6z5"
      },
      "execution_count": null,
      "outputs": []
    },
    {
      "cell_type": "code",
      "source": [
        "f = plt.figure(figsize=(7, 5))\n",
        "plt.title('Распределение сущностей в Размечено') \n",
        "plt.bar(cnt_entities.keys(), cnt_entities.values())"
      ],
      "metadata": {
        "colab": {
          "base_uri": "https://localhost:8080/",
          "height": 355
        },
        "id": "4hUgPp0GWY7e",
        "outputId": "4d8fb7ee-b3fb-4ace-820a-b3c0dc5c63ec"
      },
      "execution_count": null,
      "outputs": [
        {
          "output_type": "execute_result",
          "data": {
            "text/plain": [
              "<BarContainer object of 5 artists>"
            ]
          },
          "metadata": {},
          "execution_count": 19
        },
        {
          "output_type": "display_data",
          "data": {
            "text/plain": [
              "<Figure size 504x360 with 1 Axes>"
            ],
            "image/png": "[encoded data removed]"
          },
          "metadata": {}
        }
      ]
    },
    {
      "cell_type": "code",
      "source": [
        "f.savefig('razmecheno_entities.jpeg')"
      ],
      "metadata": {
        "id": "5EKMkwDLWfx8"
      },
      "execution_count": null,
      "outputs": []
    },
    {
      "cell_type": "markdown",
      "source": [
        "## Размечено и FactRu"
      ],
      "metadata": {
        "id": "Q4m5ootyZQNT"
      }
    },
    {
      "cell_type": "code",
      "source": [
        "import re"
      ],
      "metadata": {
        "id": "lq5ExcS-ZwzC"
      },
      "execution_count": null,
      "outputs": []
    },
    {
      "cell_type": "code",
      "source": [
        "def preprocess_bio(bio): \n",
        "    regex = re.compile('[A-Z-]+')\n",
        "    return regex.findall(bio)"
      ],
      "metadata": {
        "id": "6X6WHnaQKbGx"
      },
      "execution_count": null,
      "outputs": []
    },
    {
      "cell_type": "code",
      "source": [
        "df_train = pd.read_csv('prozhito/data/factru_train.csv') \n",
        "df_test = pd.read_csv('prozhito/data/factru_test.csv') \n",
        "df_val = pd.read_csv('prozhito/data/factru_val.csv') \n",
        "\n",
        "df_factru = pd.concat([df_train, df_test, df_val])  \n",
        "df_factru.head()"
      ],
      "metadata": {
        "colab": {
          "base_uri": "https://localhost:8080/",
          "height": 206
        },
        "id": "SWUUem_xEzWD",
        "outputId": "a781e618-09a3-40bb-e2b6-17d697968853"
      },
      "execution_count": null,
      "outputs": [
        {
          "output_type": "execute_result",
          "data": {
            "text/plain": [
              "                                              tokens  \\\n",
              "0  ['Я', 'голосовал', 'против', 'увольнения', 'Фе...   \n",
              "1  ['Белоруссия', ',', 'Казахстан', ',', 'как', '...   \n",
              "2  ['В', 'то', 'же', 'время', 'канцлер', 'подчерк...   \n",
              "3  ['Спуск', 'корабля', 'с', 'орбиты', 'проходил'...   \n",
              "4  ['Герой', 'Мураками', 'увлекается', 'западными...   \n",
              "\n",
              "                                                 BIO  \n",
              "0  ['O', 'O', 'O', 'O', 'B-PER', 'O', 'O', 'O', '...  \n",
              "1  ['O', 'O', 'O', 'O', 'O', 'O', 'O', 'O', 'O', ...  \n",
              "2  ['O', 'O', 'O', 'O', 'O', 'O', 'O', 'O', 'O', ...  \n",
              "3  ['O', 'O', 'O', 'O', 'O', 'O', 'O', 'O', 'O', ...  \n",
              "4  ['O', 'B-PER', 'O', 'O', 'O', 'O', 'O', 'O', '...  "
            ],
            "text/html": [
              "\n",
              "  <div id=\"df-a95fef2a-7b9c-48c0-8faa-34eba543abaf\">\n",
              "    <div class=\"colab-df-container\">\n",
              "      <div>\n",
              "<style scoped>\n",
              "    .dataframe tbody tr th:only-of-type {\n",
              "        vertical-align: middle;\n",
              "    }\n",
              "\n",
              "    .dataframe tbody tr th {\n",
              "        vertical-align: top;\n",
              "    }\n",
              "\n",
              "    .dataframe thead th {\n",
              "        text-align: right;\n",
              "    }\n",
              "</style>\n",
              "<table border=\"1\" class=\"dataframe\">\n",
              "  <thead>\n",
              "    <tr style=\"text-align: right;\">\n",
              "      <th></th>\n",
              "      <th>tokens</th>\n",
              "      <th>BIO</th>\n",
              "    </tr>\n",
              "  </thead>\n",
              "  <tbody>\n",
              "    <tr>\n",
              "      <th>0</th>\n",
              "      <td>['Я', 'голосовал', 'против', 'увольнения', 'Фе...</td>\n",
              "      <td>['O', 'O', 'O', 'O', 'B-PER', 'O', 'O', 'O', '...</td>\n",
              "    </tr>\n",
              "    <tr>\n",
              "      <th>1</th>\n",
              "      <td>['Белоруссия', ',', 'Казахстан', ',', 'как', '...</td>\n",
              "      <td>['O', 'O', 'O', 'O', 'O', 'O', 'O', 'O', 'O', ...</td>\n",
              "    </tr>\n",
              "    <tr>\n",
              "      <th>2</th>\n",
              "      <td>['В', 'то', 'же', 'время', 'канцлер', 'подчерк...</td>\n",
              "      <td>['O', 'O', 'O', 'O', 'O', 'O', 'O', 'O', 'O', ...</td>\n",
              "    </tr>\n",
              "    <tr>\n",
              "      <th>3</th>\n",
              "      <td>['Спуск', 'корабля', 'с', 'орбиты', 'проходил'...</td>\n",
              "      <td>['O', 'O', 'O', 'O', 'O', 'O', 'O', 'O', 'O', ...</td>\n",
              "    </tr>\n",
              "    <tr>\n",
              "      <th>4</th>\n",
              "      <td>['Герой', 'Мураками', 'увлекается', 'западными...</td>\n",
              "      <td>['O', 'B-PER', 'O', 'O', 'O', 'O', 'O', 'O', '...</td>\n",
              "    </tr>\n",
              "  </tbody>\n",
              "</table>\n",
              "</div>\n",
              "      <button class=\"colab-df-convert\" onclick=\"convertToInteractive('df-a95fef2a-7b9c-48c0-8faa-34eba543abaf')\"\n",
              "              title=\"Convert this dataframe to an interactive table.\"\n",
              "              style=\"display:none;\">\n",
              "        \n",
              "  <svg xmlns=\"http://www.w3.org/2000/svg\" height=\"24px\"viewBox=\"0 0 24 24\"\n",
              "       width=\"24px\">\n",
              "    <path d=\"M0 0h24v24H0V0z\" fill=\"none\"/>\n",
              "    <path d=\"M18.56 5.44l.94 2.06.94-2.06 2.06-.94-2.06-.94-.94-2.06-.94 2.06-2.06.94zm-11 1L8.5 8.5l.94-2.06 2.06-.94-2.06-.94L8.5 2.5l-.94 2.06-2.06.94zm10 10l.94 2.06.94-2.06 2.06-.94-2.06-.94-.94-2.06-.94 2.06-2.06.94z\"/><path d=\"M17.41 7.96l-1.37-1.37c-.4-.4-.92-.59-1.43-.59-.52 0-1.04.2-1.43.59L10.3 9.45l-7.72 7.72c-.78.78-.78 2.05 0 2.83L4 21.41c.39.39.9.59 1.41.59.51 0 1.02-.2 1.41-.59l7.78-7.78 2.81-2.81c.8-.78.8-2.07 0-2.86zM5.41 20L4 18.59l7.72-7.72 1.47 1.35L5.41 20z\"/>\n",
              "  </svg>\n",
              "      </button>\n",
              "      \n",
              "  <style>\n",
              "    .colab-df-container {\n",
              "      display:flex;\n",
              "      flex-wrap:wrap;\n",
              "      gap: 12px;\n",
              "    }\n",
              "\n",
              "    .colab-df-convert {\n",
              "      background-color: #E8F0FE;\n",
              "      border: none;\n",
              "      border-radius: 50%;\n",
              "      cursor: pointer;\n",
              "      display: none;\n",
              "      fill: #1967D2;\n",
              "      height: 32px;\n",
              "      padding: 0 0 0 0;\n",
              "      width: 32px;\n",
              "    }\n",
              "\n",
              "    .colab-df-convert:hover {\n",
              "      background-color: #E2EBFA;\n",
              "      box-shadow: 0px 1px 2px rgba(60, 64, 67, 0.3), 0px 1px 3px 1px rgba(60, 64, 67, 0.15);\n",
              "      fill: #174EA6;\n",
              "    }\n",
              "\n",
              "    [theme=dark] .colab-df-convert {\n",
              "      background-color: #3B4455;\n",
              "      fill: #D2E3FC;\n",
              "    }\n",
              "\n",
              "    [theme=dark] .colab-df-convert:hover {\n",
              "      background-color: #434B5C;\n",
              "      box-shadow: 0px 1px 3px 1px rgba(0, 0, 0, 0.15);\n",
              "      filter: drop-shadow(0px 1px 2px rgba(0, 0, 0, 0.3));\n",
              "      fill: #FFFFFF;\n",
              "    }\n",
              "  </style>\n",
              "\n",
              "      <script>\n",
              "        const buttonEl =\n",
              "          document.querySelector('#df-a95fef2a-7b9c-48c0-8faa-34eba543abaf button.colab-df-convert');\n",
              "        buttonEl.style.display =\n",
              "          google.colab.kernel.accessAllowed ? 'block' : 'none';\n",
              "\n",
              "        async function convertToInteractive(key) {\n",
              "          const element = document.querySelector('#df-a95fef2a-7b9c-48c0-8faa-34eba543abaf');\n",
              "          const dataTable =\n",
              "            await google.colab.kernel.invokeFunction('convertToInteractive',\n",
              "                                                     [key], {});\n",
              "          if (!dataTable) return;\n",
              "\n",
              "          const docLinkHtml = 'Like what you see? Visit the ' +\n",
              "            '<a target=\"_blank\" href=https://colab.research.google.com/notebooks/data_table.ipynb>data table notebook</a>'\n",
              "            + ' to learn more about interactive tables.';\n",
              "          element.innerHTML = '';\n",
              "          dataTable['output_type'] = 'display_data';\n",
              "          await google.colab.output.renderOutput(dataTable, element);\n",
              "          const docLink = document.createElement('div');\n",
              "          docLink.innerHTML = docLinkHtml;\n",
              "          element.appendChild(docLink);\n",
              "        }\n",
              "      </script>\n",
              "    </div>\n",
              "  </div>\n",
              "  "
            ]
          },
          "metadata": {},
          "execution_count": 24
        }
      ]
    },
    {
      "cell_type": "code",
      "source": [
        "df_factru['BIO'] = df_factru['BIO'].apply(lambda x: preprocess_bio(x)) \n",
        "df_factru.head()"
      ],
      "metadata": {
        "colab": {
          "base_uri": "https://localhost:8080/",
          "height": 206
        },
        "id": "Z6yp7uukHpDb",
        "outputId": "2f4ade0c-6e26-4dac-fb21-e1e12203c3f9"
      },
      "execution_count": null,
      "outputs": [
        {
          "output_type": "execute_result",
          "data": {
            "text/plain": [
              "                                              tokens  \\\n",
              "0  ['Я', 'голосовал', 'против', 'увольнения', 'Фе...   \n",
              "1  ['Белоруссия', ',', 'Казахстан', ',', 'как', '...   \n",
              "2  ['В', 'то', 'же', 'время', 'канцлер', 'подчерк...   \n",
              "3  ['Спуск', 'корабля', 'с', 'орбиты', 'проходил'...   \n",
              "4  ['Герой', 'Мураками', 'увлекается', 'западными...   \n",
              "\n",
              "                                                 BIO  \n",
              "0  [O, O, O, O, B-PER, O, O, O, O, O, B-PER, O, O...  \n",
              "1   [O, O, O, O, O, O, O, O, O, O, O, O, O, O, O, O]  \n",
              "2            [O, O, O, O, O, O, O, O, O, O, O, O, O]  \n",
              "3  [O, O, O, O, O, O, O, O, O, O, O, O, O, O, O, ...  \n",
              "4                 [O, B-PER, O, O, O, O, O, O, O, O]  "
            ],
            "text/html": [
              "\n",
              "  <div id=\"df-acb710f8-58d1-48e3-9006-4fc35b914e92\">\n",
              "    <div class=\"colab-df-container\">\n",
              "      <div>\n",
              "<style scoped>\n",
              "    .dataframe tbody tr th:only-of-type {\n",
              "        vertical-align: middle;\n",
              "    }\n",
              "\n",
              "    .dataframe tbody tr th {\n",
              "        vertical-align: top;\n",
              "    }\n",
              "\n",
              "    .dataframe thead th {\n",
              "        text-align: right;\n",
              "    }\n",
              "</style>\n",
              "<table border=\"1\" class=\"dataframe\">\n",
              "  <thead>\n",
              "    <tr style=\"text-align: right;\">\n",
              "      <th></th>\n",
              "      <th>tokens</th>\n",
              "      <th>BIO</th>\n",
              "    </tr>\n",
              "  </thead>\n",
              "  <tbody>\n",
              "    <tr>\n",
              "      <th>0</th>\n",
              "      <td>['Я', 'голосовал', 'против', 'увольнения', 'Фе...</td>\n",
              "      <td>[O, O, O, O, B-PER, O, O, O, O, O, B-PER, O, O...</td>\n",
              "    </tr>\n",
              "    <tr>\n",
              "      <th>1</th>\n",
              "      <td>['Белоруссия', ',', 'Казахстан', ',', 'как', '...</td>\n",
              "      <td>[O, O, O, O, O, O, O, O, O, O, O, O, O, O, O, O]</td>\n",
              "    </tr>\n",
              "    <tr>\n",
              "      <th>2</th>\n",
              "      <td>['В', 'то', 'же', 'время', 'канцлер', 'подчерк...</td>\n",
              "      <td>[O, O, O, O, O, O, O, O, O, O, O, O, O]</td>\n",
              "    </tr>\n",
              "    <tr>\n",
              "      <th>3</th>\n",
              "      <td>['Спуск', 'корабля', 'с', 'орбиты', 'проходил'...</td>\n",
              "      <td>[O, O, O, O, O, O, O, O, O, O, O, O, O, O, O, ...</td>\n",
              "    </tr>\n",
              "    <tr>\n",
              "      <th>4</th>\n",
              "      <td>['Герой', 'Мураками', 'увлекается', 'западными...</td>\n",
              "      <td>[O, B-PER, O, O, O, O, O, O, O, O]</td>\n",
              "    </tr>\n",
              "  </tbody>\n",
              "</table>\n",
              "</div>\n",
              "      <button class=\"colab-df-convert\" onclick=\"convertToInteractive('df-acb710f8-58d1-48e3-9006-4fc35b914e92')\"\n",
              "              title=\"Convert this dataframe to an interactive table.\"\n",
              "              style=\"display:none;\">\n",
              "        \n",
              "  <svg xmlns=\"http://www.w3.org/2000/svg\" height=\"24px\"viewBox=\"0 0 24 24\"\n",
              "       width=\"24px\">\n",
              "    <path d=\"M0 0h24v24H0V0z\" fill=\"none\"/>\n",
              "    <path d=\"M18.56 5.44l.94 2.06.94-2.06 2.06-.94-2.06-.94-.94-2.06-.94 2.06-2.06.94zm-11 1L8.5 8.5l.94-2.06 2.06-.94-2.06-.94L8.5 2.5l-.94 2.06-2.06.94zm10 10l.94 2.06.94-2.06 2.06-.94-2.06-.94-.94-2.06-.94 2.06-2.06.94z\"/><path d=\"M17.41 7.96l-1.37-1.37c-.4-.4-.92-.59-1.43-.59-.52 0-1.04.2-1.43.59L10.3 9.45l-7.72 7.72c-.78.78-.78 2.05 0 2.83L4 21.41c.39.39.9.59 1.41.59.51 0 1.02-.2 1.41-.59l7.78-7.78 2.81-2.81c.8-.78.8-2.07 0-2.86zM5.41 20L4 18.59l7.72-7.72 1.47 1.35L5.41 20z\"/>\n",
              "  </svg>\n",
              "      </button>\n",
              "      \n",
              "  <style>\n",
              "    .colab-df-container {\n",
              "      display:flex;\n",
              "      flex-wrap:wrap;\n",
              "      gap: 12px;\n",
              "    }\n",
              "\n",
              "    .colab-df-convert {\n",
              "      background-color: #E8F0FE;\n",
              "      border: none;\n",
              "      border-radius: 50%;\n",
              "      cursor: pointer;\n",
              "      display: none;\n",
              "      fill: #1967D2;\n",
              "      height: 32px;\n",
              "      padding: 0 0 0 0;\n",
              "      width: 32px;\n",
              "    }\n",
              "\n",
              "    .colab-df-convert:hover {\n",
              "      background-color: #E2EBFA;\n",
              "      box-shadow: 0px 1px 2px rgba(60, 64, 67, 0.3), 0px 1px 3px 1px rgba(60, 64, 67, 0.15);\n",
              "      fill: #174EA6;\n",
              "    }\n",
              "\n",
              "    [theme=dark] .colab-df-convert {\n",
              "      background-color: #3B4455;\n",
              "      fill: #D2E3FC;\n",
              "    }\n",
              "\n",
              "    [theme=dark] .colab-df-convert:hover {\n",
              "      background-color: #434B5C;\n",
              "      box-shadow: 0px 1px 3px 1px rgba(0, 0, 0, 0.15);\n",
              "      filter: drop-shadow(0px 1px 2px rgba(0, 0, 0, 0.3));\n",
              "      fill: #FFFFFF;\n",
              "    }\n",
              "  </style>\n",
              "\n",
              "      <script>\n",
              "        const buttonEl =\n",
              "          document.querySelector('#df-acb710f8-58d1-48e3-9006-4fc35b914e92 button.colab-df-convert');\n",
              "        buttonEl.style.display =\n",
              "          google.colab.kernel.accessAllowed ? 'block' : 'none';\n",
              "\n",
              "        async function convertToInteractive(key) {\n",
              "          const element = document.querySelector('#df-acb710f8-58d1-48e3-9006-4fc35b914e92');\n",
              "          const dataTable =\n",
              "            await google.colab.kernel.invokeFunction('convertToInteractive',\n",
              "                                                     [key], {});\n",
              "          if (!dataTable) return;\n",
              "\n",
              "          const docLinkHtml = 'Like what you see? Visit the ' +\n",
              "            '<a target=\"_blank\" href=https://colab.research.google.com/notebooks/data_table.ipynb>data table notebook</a>'\n",
              "            + ' to learn more about interactive tables.';\n",
              "          element.innerHTML = '';\n",
              "          dataTable['output_type'] = 'display_data';\n",
              "          await google.colab.output.renderOutput(dataTable, element);\n",
              "          const docLink = document.createElement('div');\n",
              "          docLink.innerHTML = docLinkHtml;\n",
              "          element.appendChild(docLink);\n",
              "        }\n",
              "      </script>\n",
              "    </div>\n",
              "  </div>\n",
              "  "
            ]
          },
          "metadata": {},
          "execution_count": 25
        }
      ]
    },
    {
      "cell_type": "code",
      "source": [
        "def cnt_entities_factru(df): \n",
        "    cnt_entities = defaultdict(int) \n",
        "    for bio in df['BIO'].values: \n",
        "        for tag in bio: \n",
        "            splitted_tag = tag.split('-') \n",
        "            if splitted_tag[0] == 'B' and splitted_tag[-1] in ['LOC', 'ORG', 'PER']: \n",
        "                cnt_entities[splitted_tag[-1]] += 1\n",
        "\n",
        "    return cnt_entities"
      ],
      "metadata": {
        "id": "JjcEWjYtaBuM"
      },
      "execution_count": null,
      "outputs": []
    },
    {
      "cell_type": "code",
      "source": [
        "factru_entities = cnt_entities_factru(df_factru) \n",
        "razmecheno_entities = cnt_entities_razmecheno(df_prozhito)"
      ],
      "metadata": {
        "id": "hDdzKdRHZxoQ"
      },
      "execution_count": null,
      "outputs": []
    },
    {
      "cell_type": "code",
      "source": [
        "factru_entities"
      ],
      "metadata": {
        "colab": {
          "base_uri": "https://localhost:8080/"
        },
        "id": "s9xNlAkVauYl",
        "outputId": "2cc55a03-0e36-4896-b865-c9e04bda3bbc"
      },
      "execution_count": null,
      "outputs": [
        {
          "output_type": "execute_result",
          "data": {
            "text/plain": [
              "defaultdict(int, {'LOC': 1117, 'ORG': 2506, 'PER': 2053})"
            ]
          },
          "metadata": {},
          "execution_count": 39
        }
      ]
    },
    {
      "cell_type": "code",
      "source": [
        "razmecheno_entities"
      ],
      "metadata": {
        "colab": {
          "base_uri": "https://localhost:8080/"
        },
        "id": "2ODPwopQaw9o",
        "outputId": "50b62f30-402c-4f4c-b0ce-d518c4865c26"
      },
      "execution_count": null,
      "outputs": [
        {
          "output_type": "execute_result",
          "data": {
            "text/plain": [
              "defaultdict(int, {'LOC': 102, 'ORG': 15, 'PER': 503})"
            ]
          },
          "metadata": {},
          "execution_count": 34
        }
      ]
    },
    {
      "cell_type": "code",
      "source": [
        "f = plt.figure(figsize=(7, 5)) \n",
        "plt.title('Распределение сущностей в Размечено и FactRu')\n",
        "plt.bar(factru_entities.keys(), factru_entities.values(), label='factru') \n",
        "plt.bar(razmecheno_entities.keys(), razmecheno_entities.values(), label='размечено') \n",
        "plt.show() "
      ],
      "metadata": {
        "colab": {
          "base_uri": "https://localhost:8080/",
          "height": 338
        },
        "id": "f8hJ88gAaOUX",
        "outputId": "1eb04c6a-84e1-417f-c11c-2e6cdcb744d1"
      },
      "execution_count": null,
      "outputs": [
        {
          "output_type": "display_data",
          "data": {
            "text/plain": [
              "<Figure size 504x360 with 1 Axes>"
            ],
            "image/png": "[encoded data removed]"
          },
          "metadata": {}
        }
      ]
    },
    {
      "cell_type": "code",
      "source": [
        "factru"
      ],
      "metadata": {
        "colab": {
          "base_uri": "https://localhost:8080/"
        },
        "id": "tzTAKZz4eeQ8",
        "outputId": "43d36910-7b7d-455c-afd7-54bfad94a7ca"
      },
      "execution_count": null,
      "outputs": [
        {
          "output_type": "execute_result",
          "data": {
            "text/plain": [
              "array([7.62705742, 7.82644314, 7.0184018 ])"
            ]
          },
          "metadata": {},
          "execution_count": 52
        }
      ]
    },
    {
      "cell_type": "code",
      "source": [
        "np.log(np.array(list(razmecheno_entities.values())))"
      ],
      "metadata": {
        "colab": {
          "base_uri": "https://localhost:8080/"
        },
        "id": "Cc99sORvdy1Q",
        "outputId": "04679f1d-b890-497b-b635-41d22cf559ae"
      },
      "execution_count": null,
      "outputs": [
        {
          "output_type": "execute_result",
          "data": {
            "text/plain": [
              "array([6.22059017, 4.62497281, 2.7080502 ])"
            ]
          },
          "metadata": {},
          "execution_count": 47
        }
      ]
    },
    {
      "cell_type": "code",
      "source": [
        "factru_entities"
      ],
      "metadata": {
        "colab": {
          "base_uri": "https://localhost:8080/"
        },
        "id": "7pc4ruKCewvf",
        "outputId": "2a6a6031-f1c5-4533-92ce-1843e5106270"
      },
      "execution_count": null,
      "outputs": [
        {
          "output_type": "execute_result",
          "data": {
            "text/plain": [
              "defaultdict(int, {'LOC': 1117, 'ORG': 2506, 'PER': 2053})"
            ]
          },
          "metadata": {},
          "execution_count": 55
        }
      ]
    },
    {
      "cell_type": "code",
      "source": [
        "X"
      ],
      "metadata": {
        "colab": {
          "base_uri": "https://localhost:8080/"
        },
        "id": "qR1C4LNve2sv",
        "outputId": "602ad0ad-3342-442c-bec6-0d2e9572ee0f"
      },
      "execution_count": null,
      "outputs": [
        {
          "output_type": "execute_result",
          "data": {
            "text/plain": [
              "['PER', 'LOC', 'ORG']"
            ]
          },
          "metadata": {},
          "execution_count": 56
        }
      ]
    },
    {
      "cell_type": "code",
      "source": [
        "f = plt.figure(figsize=(10, 7))\n",
        "\n",
        "X = list(razmecheno_entities.keys())\n",
        "razmecheno = np.log(np.array(list(razmecheno_entities.values())))\n",
        "factru = np.log(np.array([2053, 1117, 2506]))\n",
        "  \n",
        "X_axis = np.arange(len(X))\n",
        "  \n",
        "plt.bar(X_axis - 0.2, razmecheno, 0.4, label = 'Размечено')\n",
        "plt.bar(X_axis + 0.2, factru, 0.4, label = 'FactRu')\n",
        "  \n",
        "plt.xticks(X_axis, X)\n",
        "plt.xlabel(\"сущности\")\n",
        "plt.title(\"Распределение сущностей в Размечено и FactRu\")\n",
        "plt.legend()\n",
        "plt.show()"
      ],
      "metadata": {
        "colab": {
          "base_uri": "https://localhost:8080/",
          "height": 464
        },
        "id": "HBpVIk62c9Q0",
        "outputId": "9454f553-303f-4a45-db95-fcdc02944bd3"
      },
      "execution_count": null,
      "outputs": [
        {
          "output_type": "display_data",
          "data": {
            "text/plain": [
              "<Figure size 720x504 with 1 Axes>"
            ],
            "image/png": "[encoded data removed]"
          },
          "metadata": {}
        }
      ]
    },
    {
      "cell_type": "code",
      "source": [
        "f.savefig('razmecheno_factru_entities.jpeg')"
      ],
      "metadata": {
        "id": "7GVMFn8ueMsf"
      },
      "execution_count": null,
      "outputs": []
    },
    {
      "cell_type": "code",
      "source": [
        "to_draw = pd.DataFrame({\n",
        "    'tag': ['LOC', 'ORG', 'PER', 'LOC', 'ORG', 'PER'], \n",
        "    'values': [\n",
        "               factru_entities['LOC'], \n",
        "               factru_entities['ORG'], \n",
        "               factru_entities['PER'], \n",
        "               razmecheno_entities['LOC'], \n",
        "               razmecheno_entities['ORG'], \n",
        "               razmecheno_entities['PER']\n",
        "    ], \n",
        "    'dataset': ['FactRu', 'FactRu', 'FactRu', 'Размечено', 'Размечено', 'Размечено']\n",
        "})\n",
        "\n",
        "sns.countplot(x='tag', hue='dataset', data=to_draw)"
      ],
      "metadata": {
        "colab": {
          "base_uri": "https://localhost:8080/",
          "height": 302
        },
        "id": "lU09bHcwaqoE",
        "outputId": "f650e2b2-66bf-4c69-83b4-a891e3184c6a"
      },
      "execution_count": null,
      "outputs": [
        {
          "output_type": "execute_result",
          "data": {
            "text/plain": [
              "<matplotlib.axes._subplots.AxesSubplot at 0x7f3ea429b410>"
            ]
          },
          "metadata": {},
          "execution_count": 41
        },
        {
          "output_type": "display_data",
          "data": {
            "text/plain": [
              "<Figure size 432x288 with 1 Axes>"
            ],
            "image/png": "[encoded data removed]"
          },
          "metadata": {}
        }
      ]
    },
    {
      "cell_type": "code",
      "source": [
        ""
      ],
      "metadata": {
        "id": "1JMbROACcipE"
      },
      "execution_count": null,
      "outputs": []
    }
  ]
}