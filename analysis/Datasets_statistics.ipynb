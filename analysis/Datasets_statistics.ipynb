{
  "nbformat": 4,
  "nbformat_minor": 0,
  "metadata": {
    "colab": {
      "name": "Datasets statistics.ipynb",
      "provenance": []
    },
    "kernelspec": {
      "name": "python3",
      "display_name": "Python 3"
    },
    "language_info": {
      "name": "python"
    }
  },
  "cells": [
    {
      "cell_type": "code",
      "execution_count": null,
      "metadata": {
        "id": "htMhLjyLEGjh"
      },
      "outputs": [],
      "source": [
        "import pandas as pd \n",
        "import numpy as np \n",
        "import matplotlib.pyplot as plt \n",
        "import seaborn as sns \n",
        "import re"
      ]
    },
    {
      "cell_type": "code",
      "source": [
        "!git clone https://github.com/tatnashev/prozhito"
      ],
      "metadata": {
        "colab": {
          "base_uri": "https://localhost:8080/"
        },
        "id": "k261lQctEQna",
        "outputId": "f4e822e9-53a4-43b2-82cb-9fe0f30061c0"
      },
      "execution_count": null,
      "outputs": [
        {
          "output_type": "stream",
          "name": "stdout",
          "text": [
            "fatal: destination path 'prozhito' already exists and is not an empty directory.\n"
          ]
        }
      ]
    },
    {
      "cell_type": "code",
      "source": [
        "!git clone https://github.com/hse-cl-masterskaya-prozhito/main"
      ],
      "metadata": {
        "colab": {
          "base_uri": "https://localhost:8080/"
        },
        "id": "SHh1EeCAofgV",
        "outputId": "5264cc0e-e258-4ffc-b435-2db85b40b2bd"
      },
      "execution_count": null,
      "outputs": [
        {
          "output_type": "stream",
          "name": "stdout",
          "text": [
            "Cloning into 'main'...\n",
            "remote: Enumerating objects: 24, done.\u001b[K\n",
            "remote: Counting objects: 100% (24/24), done.\u001b[K\n",
            "remote: Compressing objects: 100% (18/18), done.\u001b[K\n",
            "remote: Total 24 (delta 4), reused 8 (delta 1), pack-reused 0\u001b[K\n",
            "Unpacking objects: 100% (24/24), done.\n"
          ]
        }
      ]
    },
    {
      "cell_type": "code",
      "source": [
        "df_train = pd.read_csv('/content/main/data/train_df_new.csv') \n",
        "df_test = pd.read_csv('/content/main/data/test_df_new.csv') \n",
        "df_val = pd.read_csv('/content/main/data/val_df_new.csv') \n",
        "\n",
        "df = pd.concat([df_train, df_test, df_val]) \n",
        "df.shape[0]"
      ],
      "metadata": {
        "colab": {
          "base_uri": "https://localhost:8080/"
        },
        "id": "v5dVuyPwoibl",
        "outputId": "ee87f8a2-a565-470d-8a6d-8713b3848a78"
      },
      "execution_count": null,
      "outputs": [
        {
          "output_type": "execute_result",
          "data": {
            "text/plain": [
              "1678"
            ]
          },
          "metadata": {},
          "execution_count": 40
        }
      ]
    },
    {
      "cell_type": "markdown",
      "source": [
        "## Размечено  "
      ],
      "metadata": {
        "id": "HCa2hS2OEuY0"
      }
    },
    {
      "cell_type": "code",
      "source": [
        "label_list = ['B-LOC', 'I-LOC', 'B-ORG', 'I-ORG', 'B-PER', 'I-PER', 'B-FAC', 'I-FAC', 'B-CHAR', 'I-CHAR', 'O']\n",
        "num2bio = dict(enumerate(label_list))"
      ],
      "metadata": {
        "id": "cQ5qa34dGKxa"
      },
      "execution_count": null,
      "outputs": []
    },
    {
      "cell_type": "code",
      "source": [
        "def preprocess_labels(labels): \n",
        "    nums = labels.split(', ')\n",
        "    nums[0] = nums[0][1:] \n",
        "    nums[-1] = nums[-1][:-1]\n",
        "\n",
        "    return list(map(int, nums))"
      ],
      "metadata": {
        "id": "8BAuCeLRGbrA"
      },
      "execution_count": null,
      "outputs": []
    },
    {
      "cell_type": "code",
      "source": [
        "def get_bio(bio_nums): \n",
        "    return [num2bio[elem] for elem in bio_nums]"
      ],
      "metadata": {
        "id": "qW3s0iYDGwAA"
      },
      "execution_count": null,
      "outputs": []
    },
    {
      "cell_type": "code",
      "source": [
        "df_train = pd.read_csv('prozhito/prozhito_data/df_train_prozhito.csv') \n",
        "df_test = pd.read_csv('prozhito/prozhito_data/df_test_prozhito.csv') \n",
        "df_val = pd.read_csv('prozhito/prozhito_data/df_val_prozhito.csv') \n",
        "\n",
        "df_prozhito = pd.concat([df_train, df_test, df_val]) \n",
        "df_prozhito.head()"
      ],
      "metadata": {
        "colab": {
          "base_uri": "https://localhost:8080/",
          "height": 337
        },
        "id": "jBHVfiljES0X",
        "outputId": "418e834c-319a-43c2-f41d-c897a5f9178d"
      },
      "execution_count": null,
      "outputs": [
        {
          "output_type": "execute_result",
          "data": {
            "text/plain": [
              "   Unnamed: 0                                             tokens  \\\n",
              "0           0  У меня большая симпатия к Лукьянину — человек ...   \n",
              "1           2  > Каким приговором , указом каким > Ты здесь ,...   \n",
              "2           3         Подумал , что летом ребята куда затащили .   \n",
              "3           4  Нашел потрясающие материалы о В . М . Брадисе ...   \n",
              "4           5                                      [Без даты . ]   \n",
              "\n",
              "                                             BIO_str  \\\n",
              "0          O O O O O O O O O O O O O O O O O O O O O   \n",
              "1                  O O O O O O O O O O O O O O O O O   \n",
              "2                               O O O O B-CHAR O O O   \n",
              "3  O O O O B-PER I-PER I-PER I-PER I-PER O O B-CH...   \n",
              "4                                            O O O O   \n",
              "\n",
              "                                            BIO_nums  \\\n",
              "0  [10, 10, 10, 10, 10, 10, 10, 10, 10, 10, 10, 1...   \n",
              "1  [10, 10, 10, 10, 10, 10, 10, 10, 10, 10, 10, 1...   \n",
              "2                    [10, 10, 10, 10, 8, 10, 10, 10]   \n",
              "3  [10, 10, 10, 10, 4, 5, 5, 5, 5, 10, 10, 8, 8, ...   \n",
              "4                                   [10, 10, 10, 10]   \n",
              "\n",
              "                                            BIO_list  \n",
              "0  ['O', 'O', 'O', 'O', 'O', 'O', 'O', 'O', 'O', ...  \n",
              "1  ['O', 'O', 'O', 'O', 'O', 'O', 'O', 'O', 'O', ...  \n",
              "2      ['O', 'O', 'O', 'O', 'B-CHAR', 'O', 'O', 'O']  \n",
              "3  ['O', 'O', 'O', 'O', 'B-PER', 'I-PER', 'I-PER'...  \n",
              "4                               ['O', 'O', 'O', 'O']  "
            ],
            "text/html": [
              "\n",
              "  <div id=\"df-de409a18-0579-45b3-8223-d9a832839806\">\n",
              "    <div class=\"colab-df-container\">\n",
              "      <div>\n",
              "<style scoped>\n",
              "    .dataframe tbody tr th:only-of-type {\n",
              "        vertical-align: middle;\n",
              "    }\n",
              "\n",
              "    .dataframe tbody tr th {\n",
              "        vertical-align: top;\n",
              "    }\n",
              "\n",
              "    .dataframe thead th {\n",
              "        text-align: right;\n",
              "    }\n",
              "</style>\n",
              "<table border=\"1\" class=\"dataframe\">\n",
              "  <thead>\n",
              "    <tr style=\"text-align: right;\">\n",
              "      <th></th>\n",
              "      <th>Unnamed: 0</th>\n",
              "      <th>tokens</th>\n",
              "      <th>BIO_str</th>\n",
              "      <th>BIO_nums</th>\n",
              "      <th>BIO_list</th>\n",
              "    </tr>\n",
              "  </thead>\n",
              "  <tbody>\n",
              "    <tr>\n",
              "      <th>0</th>\n",
              "      <td>0</td>\n",
              "      <td>У меня большая симпатия к Лукьянину — человек ...</td>\n",
              "      <td>O O O O O O O O O O O O O O O O O O O O O</td>\n",
              "      <td>[10, 10, 10, 10, 10, 10, 10, 10, 10, 10, 10, 1...</td>\n",
              "      <td>['O', 'O', 'O', 'O', 'O', 'O', 'O', 'O', 'O', ...</td>\n",
              "    </tr>\n",
              "    <tr>\n",
              "      <th>1</th>\n",
              "      <td>2</td>\n",
              "      <td>&gt; Каким приговором , указом каким &gt; Ты здесь ,...</td>\n",
              "      <td>O O O O O O O O O O O O O O O O O</td>\n",
              "      <td>[10, 10, 10, 10, 10, 10, 10, 10, 10, 10, 10, 1...</td>\n",
              "      <td>['O', 'O', 'O', 'O', 'O', 'O', 'O', 'O', 'O', ...</td>\n",
              "    </tr>\n",
              "    <tr>\n",
              "      <th>2</th>\n",
              "      <td>3</td>\n",
              "      <td>Подумал , что летом ребята куда затащили .</td>\n",
              "      <td>O O O O B-CHAR O O O</td>\n",
              "      <td>[10, 10, 10, 10, 8, 10, 10, 10]</td>\n",
              "      <td>['O', 'O', 'O', 'O', 'B-CHAR', 'O', 'O', 'O']</td>\n",
              "    </tr>\n",
              "    <tr>\n",
              "      <th>3</th>\n",
              "      <td>4</td>\n",
              "      <td>Нашел потрясающие материалы о В . М . Брадисе ...</td>\n",
              "      <td>O O O O B-PER I-PER I-PER I-PER I-PER O O B-CH...</td>\n",
              "      <td>[10, 10, 10, 10, 4, 5, 5, 5, 5, 10, 10, 8, 8, ...</td>\n",
              "      <td>['O', 'O', 'O', 'O', 'B-PER', 'I-PER', 'I-PER'...</td>\n",
              "    </tr>\n",
              "    <tr>\n",
              "      <th>4</th>\n",
              "      <td>5</td>\n",
              "      <td>[Без даты . ]</td>\n",
              "      <td>O O O O</td>\n",
              "      <td>[10, 10, 10, 10]</td>\n",
              "      <td>['O', 'O', 'O', 'O']</td>\n",
              "    </tr>\n",
              "  </tbody>\n",
              "</table>\n",
              "</div>\n",
              "      <button class=\"colab-df-convert\" onclick=\"convertToInteractive('df-de409a18-0579-45b3-8223-d9a832839806')\"\n",
              "              title=\"Convert this dataframe to an interactive table.\"\n",
              "              style=\"display:none;\">\n",
              "        \n",
              "  <svg xmlns=\"http://www.w3.org/2000/svg\" height=\"24px\"viewBox=\"0 0 24 24\"\n",
              "       width=\"24px\">\n",
              "    <path d=\"M0 0h24v24H0V0z\" fill=\"none\"/>\n",
              "    <path d=\"M18.56 5.44l.94 2.06.94-2.06 2.06-.94-2.06-.94-.94-2.06-.94 2.06-2.06.94zm-11 1L8.5 8.5l.94-2.06 2.06-.94-2.06-.94L8.5 2.5l-.94 2.06-2.06.94zm10 10l.94 2.06.94-2.06 2.06-.94-2.06-.94-.94-2.06-.94 2.06-2.06.94z\"/><path d=\"M17.41 7.96l-1.37-1.37c-.4-.4-.92-.59-1.43-.59-.52 0-1.04.2-1.43.59L10.3 9.45l-7.72 7.72c-.78.78-.78 2.05 0 2.83L4 21.41c.39.39.9.59 1.41.59.51 0 1.02-.2 1.41-.59l7.78-7.78 2.81-2.81c.8-.78.8-2.07 0-2.86zM5.41 20L4 18.59l7.72-7.72 1.47 1.35L5.41 20z\"/>\n",
              "  </svg>\n",
              "      </button>\n",
              "      \n",
              "  <style>\n",
              "    .colab-df-container {\n",
              "      display:flex;\n",
              "      flex-wrap:wrap;\n",
              "      gap: 12px;\n",
              "    }\n",
              "\n",
              "    .colab-df-convert {\n",
              "      background-color: #E8F0FE;\n",
              "      border: none;\n",
              "      border-radius: 50%;\n",
              "      cursor: pointer;\n",
              "      display: none;\n",
              "      fill: #1967D2;\n",
              "      height: 32px;\n",
              "      padding: 0 0 0 0;\n",
              "      width: 32px;\n",
              "    }\n",
              "\n",
              "    .colab-df-convert:hover {\n",
              "      background-color: #E2EBFA;\n",
              "      box-shadow: 0px 1px 2px rgba(60, 64, 67, 0.3), 0px 1px 3px 1px rgba(60, 64, 67, 0.15);\n",
              "      fill: #174EA6;\n",
              "    }\n",
              "\n",
              "    [theme=dark] .colab-df-convert {\n",
              "      background-color: #3B4455;\n",
              "      fill: #D2E3FC;\n",
              "    }\n",
              "\n",
              "    [theme=dark] .colab-df-convert:hover {\n",
              "      background-color: #434B5C;\n",
              "      box-shadow: 0px 1px 3px 1px rgba(0, 0, 0, 0.15);\n",
              "      filter: drop-shadow(0px 1px 2px rgba(0, 0, 0, 0.3));\n",
              "      fill: #FFFFFF;\n",
              "    }\n",
              "  </style>\n",
              "\n",
              "      <script>\n",
              "        const buttonEl =\n",
              "          document.querySelector('#df-de409a18-0579-45b3-8223-d9a832839806 button.colab-df-convert');\n",
              "        buttonEl.style.display =\n",
              "          google.colab.kernel.accessAllowed ? 'block' : 'none';\n",
              "\n",
              "        async function convertToInteractive(key) {\n",
              "          const element = document.querySelector('#df-de409a18-0579-45b3-8223-d9a832839806');\n",
              "          const dataTable =\n",
              "            await google.colab.kernel.invokeFunction('convertToInteractive',\n",
              "                                                     [key], {});\n",
              "          if (!dataTable) return;\n",
              "\n",
              "          const docLinkHtml = 'Like what you see? Visit the ' +\n",
              "            '<a target=\"_blank\" href=https://colab.research.google.com/notebooks/data_table.ipynb>data table notebook</a>'\n",
              "            + ' to learn more about interactive tables.';\n",
              "          element.innerHTML = '';\n",
              "          dataTable['output_type'] = 'display_data';\n",
              "          await google.colab.output.renderOutput(dataTable, element);\n",
              "          const docLink = document.createElement('div');\n",
              "          docLink.innerHTML = docLinkHtml;\n",
              "          element.appendChild(docLink);\n",
              "        }\n",
              "      </script>\n",
              "    </div>\n",
              "  </div>\n",
              "  "
            ]
          },
          "metadata": {},
          "execution_count": 35
        }
      ]
    },
    {
      "cell_type": "code",
      "source": [
        "texts = [] \n",
        "texts.extend(df_train['tokens'].values) \n",
        "texts.extend(df_test['tokens'].values) \n",
        "texts.extend(df_val['tokens'].values) \n",
        "\n",
        "len(list(set(texts)))"
      ],
      "metadata": {
        "colab": {
          "base_uri": "https://localhost:8080/"
        },
        "id": "lD3t4yxlnVGR",
        "outputId": "5b6f812e-32d2-4c79-cfde-936f2680fb40"
      },
      "execution_count": null,
      "outputs": [
        {
          "output_type": "execute_result",
          "data": {
            "text/plain": [
              "1364"
            ]
          },
          "metadata": {},
          "execution_count": 36
        }
      ]
    },
    {
      "cell_type": "code",
      "source": [
        "df_prozhito = df_prozhito.drop(columns=['Unnamed: 0'])\n",
        "df_prozhito['BIO_nums'] = df_prozhito['BIO_nums'].apply(lambda x: preprocess_labels(x)) \n",
        "df_prozhito['BIO'] = df_prozhito['BIO_nums'].apply(lambda x: get_bio(x)) \n",
        "df_prozhito = df_prozhito.drop(columns=['BIO_str', 'BIO_list'])\n",
        "df_prozhito.head() "
      ],
      "metadata": {
        "colab": {
          "base_uri": "https://localhost:8080/",
          "height": 206
        },
        "id": "dCu-S8RkGhNi",
        "outputId": "2196e018-a7de-4de5-f799-d9c5696e523d"
      },
      "execution_count": null,
      "outputs": [
        {
          "output_type": "execute_result",
          "data": {
            "text/plain": [
              "                                              tokens  \\\n",
              "0  У меня большая симпатия к Лукьянину — человек ...   \n",
              "1  > Каким приговором , указом каким > Ты здесь ,...   \n",
              "2         Подумал , что летом ребята куда затащили .   \n",
              "3  Нашел потрясающие материалы о В . М . Брадисе ...   \n",
              "4                                      [Без даты . ]   \n",
              "\n",
              "                                            BIO_nums  \\\n",
              "0  [10, 10, 10, 10, 10, 10, 10, 10, 10, 10, 10, 1...   \n",
              "1  [10, 10, 10, 10, 10, 10, 10, 10, 10, 10, 10, 1...   \n",
              "2                    [10, 10, 10, 10, 8, 10, 10, 10]   \n",
              "3  [10, 10, 10, 10, 4, 5, 5, 5, 5, 10, 10, 8, 8, ...   \n",
              "4                                   [10, 10, 10, 10]   \n",
              "\n",
              "                                                 BIO  \n",
              "0  [O, O, O, O, O, O, O, O, O, O, O, O, O, O, O, ...  \n",
              "1  [O, O, O, O, O, O, O, O, O, O, O, O, O, O, O, ...  \n",
              "2                      [O, O, O, O, B-CHAR, O, O, O]  \n",
              "3  [O, O, O, O, B-PER, I-PER, I-PER, I-PER, I-PER...  \n",
              "4                                       [O, O, O, O]  "
            ],
            "text/html": [
              "\n",
              "  <div id=\"df-540ac0c6-d234-4b95-850f-e937b1b3a2e6\">\n",
              "    <div class=\"colab-df-container\">\n",
              "      <div>\n",
              "<style scoped>\n",
              "    .dataframe tbody tr th:only-of-type {\n",
              "        vertical-align: middle;\n",
              "    }\n",
              "\n",
              "    .dataframe tbody tr th {\n",
              "        vertical-align: top;\n",
              "    }\n",
              "\n",
              "    .dataframe thead th {\n",
              "        text-align: right;\n",
              "    }\n",
              "</style>\n",
              "<table border=\"1\" class=\"dataframe\">\n",
              "  <thead>\n",
              "    <tr style=\"text-align: right;\">\n",
              "      <th></th>\n",
              "      <th>tokens</th>\n",
              "      <th>BIO_nums</th>\n",
              "      <th>BIO</th>\n",
              "    </tr>\n",
              "  </thead>\n",
              "  <tbody>\n",
              "    <tr>\n",
              "      <th>0</th>\n",
              "      <td>У меня большая симпатия к Лукьянину — человек ...</td>\n",
              "      <td>[10, 10, 10, 10, 10, 10, 10, 10, 10, 10, 10, 1...</td>\n",
              "      <td>[O, O, O, O, O, O, O, O, O, O, O, O, O, O, O, ...</td>\n",
              "    </tr>\n",
              "    <tr>\n",
              "      <th>1</th>\n",
              "      <td>&gt; Каким приговором , указом каким &gt; Ты здесь ,...</td>\n",
              "      <td>[10, 10, 10, 10, 10, 10, 10, 10, 10, 10, 10, 1...</td>\n",
              "      <td>[O, O, O, O, O, O, O, O, O, O, O, O, O, O, O, ...</td>\n",
              "    </tr>\n",
              "    <tr>\n",
              "      <th>2</th>\n",
              "      <td>Подумал , что летом ребята куда затащили .</td>\n",
              "      <td>[10, 10, 10, 10, 8, 10, 10, 10]</td>\n",
              "      <td>[O, O, O, O, B-CHAR, O, O, O]</td>\n",
              "    </tr>\n",
              "    <tr>\n",
              "      <th>3</th>\n",
              "      <td>Нашел потрясающие материалы о В . М . Брадисе ...</td>\n",
              "      <td>[10, 10, 10, 10, 4, 5, 5, 5, 5, 10, 10, 8, 8, ...</td>\n",
              "      <td>[O, O, O, O, B-PER, I-PER, I-PER, I-PER, I-PER...</td>\n",
              "    </tr>\n",
              "    <tr>\n",
              "      <th>4</th>\n",
              "      <td>[Без даты . ]</td>\n",
              "      <td>[10, 10, 10, 10]</td>\n",
              "      <td>[O, O, O, O]</td>\n",
              "    </tr>\n",
              "  </tbody>\n",
              "</table>\n",
              "</div>\n",
              "      <button class=\"colab-df-convert\" onclick=\"convertToInteractive('df-540ac0c6-d234-4b95-850f-e937b1b3a2e6')\"\n",
              "              title=\"Convert this dataframe to an interactive table.\"\n",
              "              style=\"display:none;\">\n",
              "        \n",
              "  <svg xmlns=\"http://www.w3.org/2000/svg\" height=\"24px\"viewBox=\"0 0 24 24\"\n",
              "       width=\"24px\">\n",
              "    <path d=\"M0 0h24v24H0V0z\" fill=\"none\"/>\n",
              "    <path d=\"M18.56 5.44l.94 2.06.94-2.06 2.06-.94-2.06-.94-.94-2.06-.94 2.06-2.06.94zm-11 1L8.5 8.5l.94-2.06 2.06-.94-2.06-.94L8.5 2.5l-.94 2.06-2.06.94zm10 10l.94 2.06.94-2.06 2.06-.94-2.06-.94-.94-2.06-.94 2.06-2.06.94z\"/><path d=\"M17.41 7.96l-1.37-1.37c-.4-.4-.92-.59-1.43-.59-.52 0-1.04.2-1.43.59L10.3 9.45l-7.72 7.72c-.78.78-.78 2.05 0 2.83L4 21.41c.39.39.9.59 1.41.59.51 0 1.02-.2 1.41-.59l7.78-7.78 2.81-2.81c.8-.78.8-2.07 0-2.86zM5.41 20L4 18.59l7.72-7.72 1.47 1.35L5.41 20z\"/>\n",
              "  </svg>\n",
              "      </button>\n",
              "      \n",
              "  <style>\n",
              "    .colab-df-container {\n",
              "      display:flex;\n",
              "      flex-wrap:wrap;\n",
              "      gap: 12px;\n",
              "    }\n",
              "\n",
              "    .colab-df-convert {\n",
              "      background-color: #E8F0FE;\n",
              "      border: none;\n",
              "      border-radius: 50%;\n",
              "      cursor: pointer;\n",
              "      display: none;\n",
              "      fill: #1967D2;\n",
              "      height: 32px;\n",
              "      padding: 0 0 0 0;\n",
              "      width: 32px;\n",
              "    }\n",
              "\n",
              "    .colab-df-convert:hover {\n",
              "      background-color: #E2EBFA;\n",
              "      box-shadow: 0px 1px 2px rgba(60, 64, 67, 0.3), 0px 1px 3px 1px rgba(60, 64, 67, 0.15);\n",
              "      fill: #174EA6;\n",
              "    }\n",
              "\n",
              "    [theme=dark] .colab-df-convert {\n",
              "      background-color: #3B4455;\n",
              "      fill: #D2E3FC;\n",
              "    }\n",
              "\n",
              "    [theme=dark] .colab-df-convert:hover {\n",
              "      background-color: #434B5C;\n",
              "      box-shadow: 0px 1px 3px 1px rgba(0, 0, 0, 0.15);\n",
              "      filter: drop-shadow(0px 1px 2px rgba(0, 0, 0, 0.3));\n",
              "      fill: #FFFFFF;\n",
              "    }\n",
              "  </style>\n",
              "\n",
              "      <script>\n",
              "        const buttonEl =\n",
              "          document.querySelector('#df-540ac0c6-d234-4b95-850f-e937b1b3a2e6 button.colab-df-convert');\n",
              "        buttonEl.style.display =\n",
              "          google.colab.kernel.accessAllowed ? 'block' : 'none';\n",
              "\n",
              "        async function convertToInteractive(key) {\n",
              "          const element = document.querySelector('#df-540ac0c6-d234-4b95-850f-e937b1b3a2e6');\n",
              "          const dataTable =\n",
              "            await google.colab.kernel.invokeFunction('convertToInteractive',\n",
              "                                                     [key], {});\n",
              "          if (!dataTable) return;\n",
              "\n",
              "          const docLinkHtml = 'Like what you see? Visit the ' +\n",
              "            '<a target=\"_blank\" href=https://colab.research.google.com/notebooks/data_table.ipynb>data table notebook</a>'\n",
              "            + ' to learn more about interactive tables.';\n",
              "          element.innerHTML = '';\n",
              "          dataTable['output_type'] = 'display_data';\n",
              "          await google.colab.output.renderOutput(dataTable, element);\n",
              "          const docLink = document.createElement('div');\n",
              "          docLink.innerHTML = docLinkHtml;\n",
              "          element.appendChild(docLink);\n",
              "        }\n",
              "      </script>\n",
              "    </div>\n",
              "  </div>\n",
              "  "
            ]
          },
          "metadata": {},
          "execution_count": 15
        }
      ]
    },
    {
      "cell_type": "code",
      "source": [
        "print(f'Размер Размечено: {df_prozhito.shape[0]}')"
      ],
      "metadata": {
        "colab": {
          "base_uri": "https://localhost:8080/"
        },
        "id": "HYjTr-v1FFbA",
        "outputId": "d12710b8-001c-438d-beac-4eae61d682d5"
      },
      "execution_count": null,
      "outputs": [
        {
          "output_type": "stream",
          "name": "stdout",
          "text": [
            "Размер Размечено: 1678\n"
          ]
        }
      ]
    },
    {
      "cell_type": "markdown",
      "source": [
        "## FactRu"
      ],
      "metadata": {
        "id": "VUbRxpLQE2xB"
      }
    },
    {
      "cell_type": "code",
      "source": [
        "def preprocess_bio(bio): \n",
        "    regex = re.compile('[A-Z-]+')\n",
        "    return regex.findall(bio)"
      ],
      "metadata": {
        "id": "6X6WHnaQKbGx"
      },
      "execution_count": null,
      "outputs": []
    },
    {
      "cell_type": "code",
      "source": [
        "df_train = pd.read_csv('prozhito/data/factru_train.csv') \n",
        "df_test = pd.read_csv('prozhito/data/factru_test.csv') \n",
        "df_val = pd.read_csv('prozhito/data/factru_val.csv') \n",
        "\n",
        "df_factru = pd.concat([df_train, df_test, df_val])  \n",
        "df_factru.head()"
      ],
      "metadata": {
        "colab": {
          "base_uri": "https://localhost:8080/",
          "height": 206
        },
        "id": "SWUUem_xEzWD",
        "outputId": "fde0f2f0-1b08-4086-e40a-8cc1c477044a"
      },
      "execution_count": null,
      "outputs": [
        {
          "output_type": "execute_result",
          "data": {
            "text/plain": [
              "                                              tokens  \\\n",
              "0  ['Я', 'голосовал', 'против', 'увольнения', 'Фе...   \n",
              "1  ['Белоруссия', ',', 'Казахстан', ',', 'как', '...   \n",
              "2  ['В', 'то', 'же', 'время', 'канцлер', 'подчерк...   \n",
              "3  ['Спуск', 'корабля', 'с', 'орбиты', 'проходил'...   \n",
              "4  ['Герой', 'Мураками', 'увлекается', 'западными...   \n",
              "\n",
              "                                                 BIO  \n",
              "0  ['O', 'O', 'O', 'O', 'B-PER', 'O', 'O', 'O', '...  \n",
              "1  ['O', 'O', 'O', 'O', 'O', 'O', 'O', 'O', 'O', ...  \n",
              "2  ['O', 'O', 'O', 'O', 'O', 'O', 'O', 'O', 'O', ...  \n",
              "3  ['O', 'O', 'O', 'O', 'O', 'O', 'O', 'O', 'O', ...  \n",
              "4  ['O', 'B-PER', 'O', 'O', 'O', 'O', 'O', 'O', '...  "
            ],
            "text/html": [
              "\n",
              "  <div id=\"df-ca6c7c51-ca92-4cd3-964f-02ebfff49033\">\n",
              "    <div class=\"colab-df-container\">\n",
              "      <div>\n",
              "<style scoped>\n",
              "    .dataframe tbody tr th:only-of-type {\n",
              "        vertical-align: middle;\n",
              "    }\n",
              "\n",
              "    .dataframe tbody tr th {\n",
              "        vertical-align: top;\n",
              "    }\n",
              "\n",
              "    .dataframe thead th {\n",
              "        text-align: right;\n",
              "    }\n",
              "</style>\n",
              "<table border=\"1\" class=\"dataframe\">\n",
              "  <thead>\n",
              "    <tr style=\"text-align: right;\">\n",
              "      <th></th>\n",
              "      <th>tokens</th>\n",
              "      <th>BIO</th>\n",
              "    </tr>\n",
              "  </thead>\n",
              "  <tbody>\n",
              "    <tr>\n",
              "      <th>0</th>\n",
              "      <td>['Я', 'голосовал', 'против', 'увольнения', 'Фе...</td>\n",
              "      <td>['O', 'O', 'O', 'O', 'B-PER', 'O', 'O', 'O', '...</td>\n",
              "    </tr>\n",
              "    <tr>\n",
              "      <th>1</th>\n",
              "      <td>['Белоруссия', ',', 'Казахстан', ',', 'как', '...</td>\n",
              "      <td>['O', 'O', 'O', 'O', 'O', 'O', 'O', 'O', 'O', ...</td>\n",
              "    </tr>\n",
              "    <tr>\n",
              "      <th>2</th>\n",
              "      <td>['В', 'то', 'же', 'время', 'канцлер', 'подчерк...</td>\n",
              "      <td>['O', 'O', 'O', 'O', 'O', 'O', 'O', 'O', 'O', ...</td>\n",
              "    </tr>\n",
              "    <tr>\n",
              "      <th>3</th>\n",
              "      <td>['Спуск', 'корабля', 'с', 'орбиты', 'проходил'...</td>\n",
              "      <td>['O', 'O', 'O', 'O', 'O', 'O', 'O', 'O', 'O', ...</td>\n",
              "    </tr>\n",
              "    <tr>\n",
              "      <th>4</th>\n",
              "      <td>['Герой', 'Мураками', 'увлекается', 'западными...</td>\n",
              "      <td>['O', 'B-PER', 'O', 'O', 'O', 'O', 'O', 'O', '...</td>\n",
              "    </tr>\n",
              "  </tbody>\n",
              "</table>\n",
              "</div>\n",
              "      <button class=\"colab-df-convert\" onclick=\"convertToInteractive('df-ca6c7c51-ca92-4cd3-964f-02ebfff49033')\"\n",
              "              title=\"Convert this dataframe to an interactive table.\"\n",
              "              style=\"display:none;\">\n",
              "        \n",
              "  <svg xmlns=\"http://www.w3.org/2000/svg\" height=\"24px\"viewBox=\"0 0 24 24\"\n",
              "       width=\"24px\">\n",
              "    <path d=\"M0 0h24v24H0V0z\" fill=\"none\"/>\n",
              "    <path d=\"M18.56 5.44l.94 2.06.94-2.06 2.06-.94-2.06-.94-.94-2.06-.94 2.06-2.06.94zm-11 1L8.5 8.5l.94-2.06 2.06-.94-2.06-.94L8.5 2.5l-.94 2.06-2.06.94zm10 10l.94 2.06.94-2.06 2.06-.94-2.06-.94-.94-2.06-.94 2.06-2.06.94z\"/><path d=\"M17.41 7.96l-1.37-1.37c-.4-.4-.92-.59-1.43-.59-.52 0-1.04.2-1.43.59L10.3 9.45l-7.72 7.72c-.78.78-.78 2.05 0 2.83L4 21.41c.39.39.9.59 1.41.59.51 0 1.02-.2 1.41-.59l7.78-7.78 2.81-2.81c.8-.78.8-2.07 0-2.86zM5.41 20L4 18.59l7.72-7.72 1.47 1.35L5.41 20z\"/>\n",
              "  </svg>\n",
              "      </button>\n",
              "      \n",
              "  <style>\n",
              "    .colab-df-container {\n",
              "      display:flex;\n",
              "      flex-wrap:wrap;\n",
              "      gap: 12px;\n",
              "    }\n",
              "\n",
              "    .colab-df-convert {\n",
              "      background-color: #E8F0FE;\n",
              "      border: none;\n",
              "      border-radius: 50%;\n",
              "      cursor: pointer;\n",
              "      display: none;\n",
              "      fill: #1967D2;\n",
              "      height: 32px;\n",
              "      padding: 0 0 0 0;\n",
              "      width: 32px;\n",
              "    }\n",
              "\n",
              "    .colab-df-convert:hover {\n",
              "      background-color: #E2EBFA;\n",
              "      box-shadow: 0px 1px 2px rgba(60, 64, 67, 0.3), 0px 1px 3px 1px rgba(60, 64, 67, 0.15);\n",
              "      fill: #174EA6;\n",
              "    }\n",
              "\n",
              "    [theme=dark] .colab-df-convert {\n",
              "      background-color: #3B4455;\n",
              "      fill: #D2E3FC;\n",
              "    }\n",
              "\n",
              "    [theme=dark] .colab-df-convert:hover {\n",
              "      background-color: #434B5C;\n",
              "      box-shadow: 0px 1px 3px 1px rgba(0, 0, 0, 0.15);\n",
              "      filter: drop-shadow(0px 1px 2px rgba(0, 0, 0, 0.3));\n",
              "      fill: #FFFFFF;\n",
              "    }\n",
              "  </style>\n",
              "\n",
              "      <script>\n",
              "        const buttonEl =\n",
              "          document.querySelector('#df-ca6c7c51-ca92-4cd3-964f-02ebfff49033 button.colab-df-convert');\n",
              "        buttonEl.style.display =\n",
              "          google.colab.kernel.accessAllowed ? 'block' : 'none';\n",
              "\n",
              "        async function convertToInteractive(key) {\n",
              "          const element = document.querySelector('#df-ca6c7c51-ca92-4cd3-964f-02ebfff49033');\n",
              "          const dataTable =\n",
              "            await google.colab.kernel.invokeFunction('convertToInteractive',\n",
              "                                                     [key], {});\n",
              "          if (!dataTable) return;\n",
              "\n",
              "          const docLinkHtml = 'Like what you see? Visit the ' +\n",
              "            '<a target=\"_blank\" href=https://colab.research.google.com/notebooks/data_table.ipynb>data table notebook</a>'\n",
              "            + ' to learn more about interactive tables.';\n",
              "          element.innerHTML = '';\n",
              "          dataTable['output_type'] = 'display_data';\n",
              "          await google.colab.output.renderOutput(dataTable, element);\n",
              "          const docLink = document.createElement('div');\n",
              "          docLink.innerHTML = docLinkHtml;\n",
              "          element.appendChild(docLink);\n",
              "        }\n",
              "      </script>\n",
              "    </div>\n",
              "  </div>\n",
              "  "
            ]
          },
          "metadata": {},
          "execution_count": 37
        }
      ]
    },
    {
      "cell_type": "code",
      "source": [
        "df_factru['BIO'] = df_factru['BIO'].apply(lambda x: preprocess_bio(x)) \n",
        "df_factru.head()"
      ],
      "metadata": {
        "colab": {
          "base_uri": "https://localhost:8080/",
          "height": 206
        },
        "id": "Z6yp7uukHpDb",
        "outputId": "bee802ac-ca8e-4dca-b707-6c000db2df04"
      },
      "execution_count": null,
      "outputs": [
        {
          "output_type": "execute_result",
          "data": {
            "text/plain": [
              "                                              tokens  \\\n",
              "0  ['Я', 'голосовал', 'против', 'увольнения', 'Фе...   \n",
              "1  ['Белоруссия', ',', 'Казахстан', ',', 'как', '...   \n",
              "2  ['В', 'то', 'же', 'время', 'канцлер', 'подчерк...   \n",
              "3  ['Спуск', 'корабля', 'с', 'орбиты', 'проходил'...   \n",
              "4  ['Герой', 'Мураками', 'увлекается', 'западными...   \n",
              "\n",
              "                                                 BIO  \n",
              "0  [O, O, O, O, B-PER, O, O, O, O, O, B-PER, O, O...  \n",
              "1   [O, O, O, O, O, O, O, O, O, O, O, O, O, O, O, O]  \n",
              "2            [O, O, O, O, O, O, O, O, O, O, O, O, O]  \n",
              "3  [O, O, O, O, O, O, O, O, O, O, O, O, O, O, O, ...  \n",
              "4                 [O, B-PER, O, O, O, O, O, O, O, O]  "
            ],
            "text/html": [
              "\n",
              "  <div id=\"df-566974d7-c650-4320-9589-8aa9843fabde\">\n",
              "    <div class=\"colab-df-container\">\n",
              "      <div>\n",
              "<style scoped>\n",
              "    .dataframe tbody tr th:only-of-type {\n",
              "        vertical-align: middle;\n",
              "    }\n",
              "\n",
              "    .dataframe tbody tr th {\n",
              "        vertical-align: top;\n",
              "    }\n",
              "\n",
              "    .dataframe thead th {\n",
              "        text-align: right;\n",
              "    }\n",
              "</style>\n",
              "<table border=\"1\" class=\"dataframe\">\n",
              "  <thead>\n",
              "    <tr style=\"text-align: right;\">\n",
              "      <th></th>\n",
              "      <th>tokens</th>\n",
              "      <th>BIO</th>\n",
              "    </tr>\n",
              "  </thead>\n",
              "  <tbody>\n",
              "    <tr>\n",
              "      <th>0</th>\n",
              "      <td>['Я', 'голосовал', 'против', 'увольнения', 'Фе...</td>\n",
              "      <td>[O, O, O, O, B-PER, O, O, O, O, O, B-PER, O, O...</td>\n",
              "    </tr>\n",
              "    <tr>\n",
              "      <th>1</th>\n",
              "      <td>['Белоруссия', ',', 'Казахстан', ',', 'как', '...</td>\n",
              "      <td>[O, O, O, O, O, O, O, O, O, O, O, O, O, O, O, O]</td>\n",
              "    </tr>\n",
              "    <tr>\n",
              "      <th>2</th>\n",
              "      <td>['В', 'то', 'же', 'время', 'канцлер', 'подчерк...</td>\n",
              "      <td>[O, O, O, O, O, O, O, O, O, O, O, O, O]</td>\n",
              "    </tr>\n",
              "    <tr>\n",
              "      <th>3</th>\n",
              "      <td>['Спуск', 'корабля', 'с', 'орбиты', 'проходил'...</td>\n",
              "      <td>[O, O, O, O, O, O, O, O, O, O, O, O, O, O, O, ...</td>\n",
              "    </tr>\n",
              "    <tr>\n",
              "      <th>4</th>\n",
              "      <td>['Герой', 'Мураками', 'увлекается', 'западными...</td>\n",
              "      <td>[O, B-PER, O, O, O, O, O, O, O, O]</td>\n",
              "    </tr>\n",
              "  </tbody>\n",
              "</table>\n",
              "</div>\n",
              "      <button class=\"colab-df-convert\" onclick=\"convertToInteractive('df-566974d7-c650-4320-9589-8aa9843fabde')\"\n",
              "              title=\"Convert this dataframe to an interactive table.\"\n",
              "              style=\"display:none;\">\n",
              "        \n",
              "  <svg xmlns=\"http://www.w3.org/2000/svg\" height=\"24px\"viewBox=\"0 0 24 24\"\n",
              "       width=\"24px\">\n",
              "    <path d=\"M0 0h24v24H0V0z\" fill=\"none\"/>\n",
              "    <path d=\"M18.56 5.44l.94 2.06.94-2.06 2.06-.94-2.06-.94-.94-2.06-.94 2.06-2.06.94zm-11 1L8.5 8.5l.94-2.06 2.06-.94-2.06-.94L8.5 2.5l-.94 2.06-2.06.94zm10 10l.94 2.06.94-2.06 2.06-.94-2.06-.94-.94-2.06-.94 2.06-2.06.94z\"/><path d=\"M17.41 7.96l-1.37-1.37c-.4-.4-.92-.59-1.43-.59-.52 0-1.04.2-1.43.59L10.3 9.45l-7.72 7.72c-.78.78-.78 2.05 0 2.83L4 21.41c.39.39.9.59 1.41.59.51 0 1.02-.2 1.41-.59l7.78-7.78 2.81-2.81c.8-.78.8-2.07 0-2.86zM5.41 20L4 18.59l7.72-7.72 1.47 1.35L5.41 20z\"/>\n",
              "  </svg>\n",
              "      </button>\n",
              "      \n",
              "  <style>\n",
              "    .colab-df-container {\n",
              "      display:flex;\n",
              "      flex-wrap:wrap;\n",
              "      gap: 12px;\n",
              "    }\n",
              "\n",
              "    .colab-df-convert {\n",
              "      background-color: #E8F0FE;\n",
              "      border: none;\n",
              "      border-radius: 50%;\n",
              "      cursor: pointer;\n",
              "      display: none;\n",
              "      fill: #1967D2;\n",
              "      height: 32px;\n",
              "      padding: 0 0 0 0;\n",
              "      width: 32px;\n",
              "    }\n",
              "\n",
              "    .colab-df-convert:hover {\n",
              "      background-color: #E2EBFA;\n",
              "      box-shadow: 0px 1px 2px rgba(60, 64, 67, 0.3), 0px 1px 3px 1px rgba(60, 64, 67, 0.15);\n",
              "      fill: #174EA6;\n",
              "    }\n",
              "\n",
              "    [theme=dark] .colab-df-convert {\n",
              "      background-color: #3B4455;\n",
              "      fill: #D2E3FC;\n",
              "    }\n",
              "\n",
              "    [theme=dark] .colab-df-convert:hover {\n",
              "      background-color: #434B5C;\n",
              "      box-shadow: 0px 1px 3px 1px rgba(0, 0, 0, 0.15);\n",
              "      filter: drop-shadow(0px 1px 2px rgba(0, 0, 0, 0.3));\n",
              "      fill: #FFFFFF;\n",
              "    }\n",
              "  </style>\n",
              "\n",
              "      <script>\n",
              "        const buttonEl =\n",
              "          document.querySelector('#df-566974d7-c650-4320-9589-8aa9843fabde button.colab-df-convert');\n",
              "        buttonEl.style.display =\n",
              "          google.colab.kernel.accessAllowed ? 'block' : 'none';\n",
              "\n",
              "        async function convertToInteractive(key) {\n",
              "          const element = document.querySelector('#df-566974d7-c650-4320-9589-8aa9843fabde');\n",
              "          const dataTable =\n",
              "            await google.colab.kernel.invokeFunction('convertToInteractive',\n",
              "                                                     [key], {});\n",
              "          if (!dataTable) return;\n",
              "\n",
              "          const docLinkHtml = 'Like what you see? Visit the ' +\n",
              "            '<a target=\"_blank\" href=https://colab.research.google.com/notebooks/data_table.ipynb>data table notebook</a>'\n",
              "            + ' to learn more about interactive tables.';\n",
              "          element.innerHTML = '';\n",
              "          dataTable['output_type'] = 'display_data';\n",
              "          await google.colab.output.renderOutput(dataTable, element);\n",
              "          const docLink = document.createElement('div');\n",
              "          docLink.innerHTML = docLinkHtml;\n",
              "          element.appendChild(docLink);\n",
              "        }\n",
              "      </script>\n",
              "    </div>\n",
              "  </div>\n",
              "  "
            ]
          },
          "metadata": {},
          "execution_count": 19
        }
      ]
    },
    {
      "cell_type": "code",
      "source": [
        "print(f'Размер Factru: {len(df_factru)}')"
      ],
      "metadata": {
        "colab": {
          "base_uri": "https://localhost:8080/"
        },
        "id": "sFq4fpr4FC7Z",
        "outputId": "50b220cd-ac21-47ef-da36-24b5dbab151f"
      },
      "execution_count": null,
      "outputs": [
        {
          "output_type": "stream",
          "name": "stdout",
          "text": [
            "Размер Factru: 4515\n"
          ]
        }
      ]
    },
    {
      "cell_type": "code",
      "source": [
        "texts = [] \n",
        "texts.extend(df_train['tokens'].values) \n",
        "texts.extend(df_test['tokens'].values) \n",
        "texts.extend(df_val['tokens'].values) \n",
        "\n",
        "len(list(set(texts)))"
      ],
      "metadata": {
        "colab": {
          "base_uri": "https://localhost:8080/"
        },
        "id": "uZMdr0ROnySR",
        "outputId": "0204eaa5-9a7e-4b5e-8ae5-a487edb1a0cb"
      },
      "execution_count": null,
      "outputs": [
        {
          "output_type": "execute_result",
          "data": {
            "text/plain": [
              "4454"
            ]
          },
          "metadata": {},
          "execution_count": 38
        }
      ]
    },
    {
      "cell_type": "markdown",
      "source": [
        "## ne5 "
      ],
      "metadata": {
        "id": "ryQk-EXvSoIP"
      }
    },
    {
      "cell_type": "code",
      "source": [
        "df_train = pd.read_csv('prozhito/data/ne5_train.csv')  \n",
        "df_test = pd.read_csv('prozhito/data/ne5_test.csv')\n",
        "df_val = pd.read_csv('prozhito/data/ne5_val.csv')\n",
        "\n",
        "df_ne5 = pd.concat([df_train, df_test, df_val]) \n",
        "df_ne5.head()"
      ],
      "metadata": {
        "colab": {
          "base_uri": "https://localhost:8080/",
          "height": 206
        },
        "id": "Z5TcKY-JSnji",
        "outputId": "1defa303-fa3e-432a-fa07-e510367186ed"
      },
      "execution_count": null,
      "outputs": [
        {
          "output_type": "execute_result",
          "data": {
            "text/plain": [
              "                                              tokens  \\\n",
              "0  ['По', 'данным', 'министерства', 'здравоохране...   \n",
              "1  ['Шульц', 'намерен', 'содействовать', 'более',...   \n",
              "2  ['В', 'настоящее', 'время', 'инициированы', 'п...   \n",
              "3  ['Судя', 'по', 'всему', ',', 'непосредственно'...   \n",
              "4  ['Голосование', 'проходило', 'в', 'открытой', ...   \n",
              "\n",
              "                                                 BIO  \n",
              "0  ['O', 'O', 'O', 'O', 'O', 'O', 'O', 'O', 'O', ...  \n",
              "1  ['I-PER', 'O', 'O', 'O', 'O', 'O', 'O', 'O', '...  \n",
              "2  ['O', 'O', 'O', 'O', 'O', 'O', 'O', 'O', 'O', ...  \n",
              "3  ['O', 'O', 'O', 'O', 'O', 'O', 'O', 'O', 'O', ...  \n",
              "4                     ['O', 'O', 'O', 'O', 'O', 'O']  "
            ],
            "text/html": [
              "\n",
              "  <div id=\"df-0764e261-bd0e-47ca-9190-8fc579ed026e\">\n",
              "    <div class=\"colab-df-container\">\n",
              "      <div>\n",
              "<style scoped>\n",
              "    .dataframe tbody tr th:only-of-type {\n",
              "        vertical-align: middle;\n",
              "    }\n",
              "\n",
              "    .dataframe tbody tr th {\n",
              "        vertical-align: top;\n",
              "    }\n",
              "\n",
              "    .dataframe thead th {\n",
              "        text-align: right;\n",
              "    }\n",
              "</style>\n",
              "<table border=\"1\" class=\"dataframe\">\n",
              "  <thead>\n",
              "    <tr style=\"text-align: right;\">\n",
              "      <th></th>\n",
              "      <th>tokens</th>\n",
              "      <th>BIO</th>\n",
              "    </tr>\n",
              "  </thead>\n",
              "  <tbody>\n",
              "    <tr>\n",
              "      <th>0</th>\n",
              "      <td>['По', 'данным', 'министерства', 'здравоохране...</td>\n",
              "      <td>['O', 'O', 'O', 'O', 'O', 'O', 'O', 'O', 'O', ...</td>\n",
              "    </tr>\n",
              "    <tr>\n",
              "      <th>1</th>\n",
              "      <td>['Шульц', 'намерен', 'содействовать', 'более',...</td>\n",
              "      <td>['I-PER', 'O', 'O', 'O', 'O', 'O', 'O', 'O', '...</td>\n",
              "    </tr>\n",
              "    <tr>\n",
              "      <th>2</th>\n",
              "      <td>['В', 'настоящее', 'время', 'инициированы', 'п...</td>\n",
              "      <td>['O', 'O', 'O', 'O', 'O', 'O', 'O', 'O', 'O', ...</td>\n",
              "    </tr>\n",
              "    <tr>\n",
              "      <th>3</th>\n",
              "      <td>['Судя', 'по', 'всему', ',', 'непосредственно'...</td>\n",
              "      <td>['O', 'O', 'O', 'O', 'O', 'O', 'O', 'O', 'O', ...</td>\n",
              "    </tr>\n",
              "    <tr>\n",
              "      <th>4</th>\n",
              "      <td>['Голосование', 'проходило', 'в', 'открытой', ...</td>\n",
              "      <td>['O', 'O', 'O', 'O', 'O', 'O']</td>\n",
              "    </tr>\n",
              "  </tbody>\n",
              "</table>\n",
              "</div>\n",
              "      <button class=\"colab-df-convert\" onclick=\"convertToInteractive('df-0764e261-bd0e-47ca-9190-8fc579ed026e')\"\n",
              "              title=\"Convert this dataframe to an interactive table.\"\n",
              "              style=\"display:none;\">\n",
              "        \n",
              "  <svg xmlns=\"http://www.w3.org/2000/svg\" height=\"24px\"viewBox=\"0 0 24 24\"\n",
              "       width=\"24px\">\n",
              "    <path d=\"M0 0h24v24H0V0z\" fill=\"none\"/>\n",
              "    <path d=\"M18.56 5.44l.94 2.06.94-2.06 2.06-.94-2.06-.94-.94-2.06-.94 2.06-2.06.94zm-11 1L8.5 8.5l.94-2.06 2.06-.94-2.06-.94L8.5 2.5l-.94 2.06-2.06.94zm10 10l.94 2.06.94-2.06 2.06-.94-2.06-.94-.94-2.06-.94 2.06-2.06.94z\"/><path d=\"M17.41 7.96l-1.37-1.37c-.4-.4-.92-.59-1.43-.59-.52 0-1.04.2-1.43.59L10.3 9.45l-7.72 7.72c-.78.78-.78 2.05 0 2.83L4 21.41c.39.39.9.59 1.41.59.51 0 1.02-.2 1.41-.59l7.78-7.78 2.81-2.81c.8-.78.8-2.07 0-2.86zM5.41 20L4 18.59l7.72-7.72 1.47 1.35L5.41 20z\"/>\n",
              "  </svg>\n",
              "      </button>\n",
              "      \n",
              "  <style>\n",
              "    .colab-df-container {\n",
              "      display:flex;\n",
              "      flex-wrap:wrap;\n",
              "      gap: 12px;\n",
              "    }\n",
              "\n",
              "    .colab-df-convert {\n",
              "      background-color: #E8F0FE;\n",
              "      border: none;\n",
              "      border-radius: 50%;\n",
              "      cursor: pointer;\n",
              "      display: none;\n",
              "      fill: #1967D2;\n",
              "      height: 32px;\n",
              "      padding: 0 0 0 0;\n",
              "      width: 32px;\n",
              "    }\n",
              "\n",
              "    .colab-df-convert:hover {\n",
              "      background-color: #E2EBFA;\n",
              "      box-shadow: 0px 1px 2px rgba(60, 64, 67, 0.3), 0px 1px 3px 1px rgba(60, 64, 67, 0.15);\n",
              "      fill: #174EA6;\n",
              "    }\n",
              "\n",
              "    [theme=dark] .colab-df-convert {\n",
              "      background-color: #3B4455;\n",
              "      fill: #D2E3FC;\n",
              "    }\n",
              "\n",
              "    [theme=dark] .colab-df-convert:hover {\n",
              "      background-color: #434B5C;\n",
              "      box-shadow: 0px 1px 3px 1px rgba(0, 0, 0, 0.15);\n",
              "      filter: drop-shadow(0px 1px 2px rgba(0, 0, 0, 0.3));\n",
              "      fill: #FFFFFF;\n",
              "    }\n",
              "  </style>\n",
              "\n",
              "      <script>\n",
              "        const buttonEl =\n",
              "          document.querySelector('#df-0764e261-bd0e-47ca-9190-8fc579ed026e button.colab-df-convert');\n",
              "        buttonEl.style.display =\n",
              "          google.colab.kernel.accessAllowed ? 'block' : 'none';\n",
              "\n",
              "        async function convertToInteractive(key) {\n",
              "          const element = document.querySelector('#df-0764e261-bd0e-47ca-9190-8fc579ed026e');\n",
              "          const dataTable =\n",
              "            await google.colab.kernel.invokeFunction('convertToInteractive',\n",
              "                                                     [key], {});\n",
              "          if (!dataTable) return;\n",
              "\n",
              "          const docLinkHtml = 'Like what you see? Visit the ' +\n",
              "            '<a target=\"_blank\" href=https://colab.research.google.com/notebooks/data_table.ipynb>data table notebook</a>'\n",
              "            + ' to learn more about interactive tables.';\n",
              "          element.innerHTML = '';\n",
              "          dataTable['output_type'] = 'display_data';\n",
              "          await google.colab.output.renderOutput(dataTable, element);\n",
              "          const docLink = document.createElement('div');\n",
              "          docLink.innerHTML = docLinkHtml;\n",
              "          element.appendChild(docLink);\n",
              "        }\n",
              "      </script>\n",
              "    </div>\n",
              "  </div>\n",
              "  "
            ]
          },
          "metadata": {},
          "execution_count": 21
        }
      ]
    },
    {
      "cell_type": "code",
      "source": [
        "len(df_ne5)"
      ],
      "metadata": {
        "colab": {
          "base_uri": "https://localhost:8080/"
        },
        "id": "in-9q3EnTaGb",
        "outputId": "907d8acf-6a75-4459-dbd4-91021cef7fdb"
      },
      "execution_count": null,
      "outputs": [
        {
          "output_type": "execute_result",
          "data": {
            "text/plain": [
              "15138"
            ]
          },
          "metadata": {},
          "execution_count": 22
        }
      ]
    },
    {
      "cell_type": "code",
      "source": [
        "df_ne5['BIO'] = df_ne5['BIO'].apply(lambda x: preprocess_bio(x)) \n",
        "df_ne5"
      ],
      "metadata": {
        "colab": {
          "base_uri": "https://localhost:8080/",
          "height": 424
        },
        "id": "2gCN9hooTZ6v",
        "outputId": "a4ff0c55-0160-452e-ba2e-898d652b119b"
      },
      "execution_count": null,
      "outputs": [
        {
          "output_type": "execute_result",
          "data": {
            "text/plain": [
              "                                                 tokens  \\\n",
              "0     ['По', 'данным', 'министерства', 'здравоохране...   \n",
              "1     ['Шульц', 'намерен', 'содействовать', 'более',...   \n",
              "2     ['В', 'настоящее', 'время', 'инициированы', 'п...   \n",
              "3     ['Судя', 'по', 'всему', ',', 'непосредственно'...   \n",
              "4     ['Голосование', 'проходило', 'в', 'открытой', ...   \n",
              "...                                                 ...   \n",
              "1494  ['\"', 'Надеюсь', ',', 'с', 'его', 'приходом', ...   \n",
              "1495  ['Комиссия', 'по', 'расследованию', 'вторжения...   \n",
              "1496  ['Кузнецов', 'на', 'протяжении', 'пяти', 'лет'...   \n",
              "1497  ['По', 'данным', 'The', 'New', 'York', 'Times'...   \n",
              "1498  ['Незамысловатые', 'каракули', 'неоднократно',...   \n",
              "\n",
              "                                                    BIO  \n",
              "0      [O, O, O, O, O, O, O, O, O, O, O, O, O, O, O, O]  \n",
              "1     [I-PER, O, O, O, O, O, O, O, O, O, O, O, O, O,...  \n",
              "2                     [O, O, O, O, O, O, O, O, O, O, O]  \n",
              "3     [O, O, O, O, O, O, O, O, O, O, O, O, O, O, O, ...  \n",
              "4                                    [O, O, O, O, O, O]  \n",
              "...                                                 ...  \n",
              "1494  [O, O, O, O, O, O, O, O, O, O, O, O, O, O, O, ...  \n",
              "1495  [O, O, O, O, O, O, O, O, O, O, O, O, O, O, O, ...  \n",
              "1496  [I-PER, O, O, O, O, O, O, B-ORG, I-ORG, I-ORG,...  \n",
              "1497  [O, O, O, O, O, O, O, O, O, O, O, B-PER, O, O,...  \n",
              "1498                     [O, O, O, O, O, O, O, O, O, O]  \n",
              "\n",
              "[15138 rows x 2 columns]"
            ],
            "text/html": [
              "\n",
              "  <div id=\"df-a0b1ba50-1932-44dc-81a0-ea0d9ae75636\">\n",
              "    <div class=\"colab-df-container\">\n",
              "      <div>\n",
              "<style scoped>\n",
              "    .dataframe tbody tr th:only-of-type {\n",
              "        vertical-align: middle;\n",
              "    }\n",
              "\n",
              "    .dataframe tbody tr th {\n",
              "        vertical-align: top;\n",
              "    }\n",
              "\n",
              "    .dataframe thead th {\n",
              "        text-align: right;\n",
              "    }\n",
              "</style>\n",
              "<table border=\"1\" class=\"dataframe\">\n",
              "  <thead>\n",
              "    <tr style=\"text-align: right;\">\n",
              "      <th></th>\n",
              "      <th>tokens</th>\n",
              "      <th>BIO</th>\n",
              "    </tr>\n",
              "  </thead>\n",
              "  <tbody>\n",
              "    <tr>\n",
              "      <th>0</th>\n",
              "      <td>['По', 'данным', 'министерства', 'здравоохране...</td>\n",
              "      <td>[O, O, O, O, O, O, O, O, O, O, O, O, O, O, O, O]</td>\n",
              "    </tr>\n",
              "    <tr>\n",
              "      <th>1</th>\n",
              "      <td>['Шульц', 'намерен', 'содействовать', 'более',...</td>\n",
              "      <td>[I-PER, O, O, O, O, O, O, O, O, O, O, O, O, O,...</td>\n",
              "    </tr>\n",
              "    <tr>\n",
              "      <th>2</th>\n",
              "      <td>['В', 'настоящее', 'время', 'инициированы', 'п...</td>\n",
              "      <td>[O, O, O, O, O, O, O, O, O, O, O]</td>\n",
              "    </tr>\n",
              "    <tr>\n",
              "      <th>3</th>\n",
              "      <td>['Судя', 'по', 'всему', ',', 'непосредственно'...</td>\n",
              "      <td>[O, O, O, O, O, O, O, O, O, O, O, O, O, O, O, ...</td>\n",
              "    </tr>\n",
              "    <tr>\n",
              "      <th>4</th>\n",
              "      <td>['Голосование', 'проходило', 'в', 'открытой', ...</td>\n",
              "      <td>[O, O, O, O, O, O]</td>\n",
              "    </tr>\n",
              "    <tr>\n",
              "      <th>...</th>\n",
              "      <td>...</td>\n",
              "      <td>...</td>\n",
              "    </tr>\n",
              "    <tr>\n",
              "      <th>1494</th>\n",
              "      <td>['\"', 'Надеюсь', ',', 'с', 'его', 'приходом', ...</td>\n",
              "      <td>[O, O, O, O, O, O, O, O, O, O, O, O, O, O, O, ...</td>\n",
              "    </tr>\n",
              "    <tr>\n",
              "      <th>1495</th>\n",
              "      <td>['Комиссия', 'по', 'расследованию', 'вторжения...</td>\n",
              "      <td>[O, O, O, O, O, O, O, O, O, O, O, O, O, O, O, ...</td>\n",
              "    </tr>\n",
              "    <tr>\n",
              "      <th>1496</th>\n",
              "      <td>['Кузнецов', 'на', 'протяжении', 'пяти', 'лет'...</td>\n",
              "      <td>[I-PER, O, O, O, O, O, O, B-ORG, I-ORG, I-ORG,...</td>\n",
              "    </tr>\n",
              "    <tr>\n",
              "      <th>1497</th>\n",
              "      <td>['По', 'данным', 'The', 'New', 'York', 'Times'...</td>\n",
              "      <td>[O, O, O, O, O, O, O, O, O, O, O, B-PER, O, O,...</td>\n",
              "    </tr>\n",
              "    <tr>\n",
              "      <th>1498</th>\n",
              "      <td>['Незамысловатые', 'каракули', 'неоднократно',...</td>\n",
              "      <td>[O, O, O, O, O, O, O, O, O, O]</td>\n",
              "    </tr>\n",
              "  </tbody>\n",
              "</table>\n",
              "<p>15138 rows × 2 columns</p>\n",
              "</div>\n",
              "      <button class=\"colab-df-convert\" onclick=\"convertToInteractive('df-a0b1ba50-1932-44dc-81a0-ea0d9ae75636')\"\n",
              "              title=\"Convert this dataframe to an interactive table.\"\n",
              "              style=\"display:none;\">\n",
              "        \n",
              "  <svg xmlns=\"http://www.w3.org/2000/svg\" height=\"24px\"viewBox=\"0 0 24 24\"\n",
              "       width=\"24px\">\n",
              "    <path d=\"M0 0h24v24H0V0z\" fill=\"none\"/>\n",
              "    <path d=\"M18.56 5.44l.94 2.06.94-2.06 2.06-.94-2.06-.94-.94-2.06-.94 2.06-2.06.94zm-11 1L8.5 8.5l.94-2.06 2.06-.94-2.06-.94L8.5 2.5l-.94 2.06-2.06.94zm10 10l.94 2.06.94-2.06 2.06-.94-2.06-.94-.94-2.06-.94 2.06-2.06.94z\"/><path d=\"M17.41 7.96l-1.37-1.37c-.4-.4-.92-.59-1.43-.59-.52 0-1.04.2-1.43.59L10.3 9.45l-7.72 7.72c-.78.78-.78 2.05 0 2.83L4 21.41c.39.39.9.59 1.41.59.51 0 1.02-.2 1.41-.59l7.78-7.78 2.81-2.81c.8-.78.8-2.07 0-2.86zM5.41 20L4 18.59l7.72-7.72 1.47 1.35L5.41 20z\"/>\n",
              "  </svg>\n",
              "      </button>\n",
              "      \n",
              "  <style>\n",
              "    .colab-df-container {\n",
              "      display:flex;\n",
              "      flex-wrap:wrap;\n",
              "      gap: 12px;\n",
              "    }\n",
              "\n",
              "    .colab-df-convert {\n",
              "      background-color: #E8F0FE;\n",
              "      border: none;\n",
              "      border-radius: 50%;\n",
              "      cursor: pointer;\n",
              "      display: none;\n",
              "      fill: #1967D2;\n",
              "      height: 32px;\n",
              "      padding: 0 0 0 0;\n",
              "      width: 32px;\n",
              "    }\n",
              "\n",
              "    .colab-df-convert:hover {\n",
              "      background-color: #E2EBFA;\n",
              "      box-shadow: 0px 1px 2px rgba(60, 64, 67, 0.3), 0px 1px 3px 1px rgba(60, 64, 67, 0.15);\n",
              "      fill: #174EA6;\n",
              "    }\n",
              "\n",
              "    [theme=dark] .colab-df-convert {\n",
              "      background-color: #3B4455;\n",
              "      fill: #D2E3FC;\n",
              "    }\n",
              "\n",
              "    [theme=dark] .colab-df-convert:hover {\n",
              "      background-color: #434B5C;\n",
              "      box-shadow: 0px 1px 3px 1px rgba(0, 0, 0, 0.15);\n",
              "      filter: drop-shadow(0px 1px 2px rgba(0, 0, 0, 0.3));\n",
              "      fill: #FFFFFF;\n",
              "    }\n",
              "  </style>\n",
              "\n",
              "      <script>\n",
              "        const buttonEl =\n",
              "          document.querySelector('#df-a0b1ba50-1932-44dc-81a0-ea0d9ae75636 button.colab-df-convert');\n",
              "        buttonEl.style.display =\n",
              "          google.colab.kernel.accessAllowed ? 'block' : 'none';\n",
              "\n",
              "        async function convertToInteractive(key) {\n",
              "          const element = document.querySelector('#df-a0b1ba50-1932-44dc-81a0-ea0d9ae75636');\n",
              "          const dataTable =\n",
              "            await google.colab.kernel.invokeFunction('convertToInteractive',\n",
              "                                                     [key], {});\n",
              "          if (!dataTable) return;\n",
              "\n",
              "          const docLinkHtml = 'Like what you see? Visit the ' +\n",
              "            '<a target=\"_blank\" href=https://colab.research.google.com/notebooks/data_table.ipynb>data table notebook</a>'\n",
              "            + ' to learn more about interactive tables.';\n",
              "          element.innerHTML = '';\n",
              "          dataTable['output_type'] = 'display_data';\n",
              "          await google.colab.output.renderOutput(dataTable, element);\n",
              "          const docLink = document.createElement('div');\n",
              "          docLink.innerHTML = docLinkHtml;\n",
              "          element.appendChild(docLink);\n",
              "        }\n",
              "      </script>\n",
              "    </div>\n",
              "  </div>\n",
              "  "
            ]
          },
          "metadata": {},
          "execution_count": 23
        }
      ]
    },
    {
      "cell_type": "markdown",
      "source": [
        "## bsnlp"
      ],
      "metadata": {
        "id": "05sWOBk2T5az"
      }
    },
    {
      "cell_type": "code",
      "source": [
        "df_train = pd.read_csv('/content/prozhito/data/bsnlp_train (2).csv')  \n",
        "df_test = pd.read_csv('/content/prozhito/data/bsnlp_test.csv')\n",
        "df_val = pd.read_csv('/content/prozhito/data/bsnlp_val (2).csv')\n",
        "\n",
        "df_bsnlp = pd.concat([df_train, df_test, df_val]) \n",
        "df_bsnlp.head()"
      ],
      "metadata": {
        "colab": {
          "base_uri": "https://localhost:8080/",
          "height": 206
        },
        "id": "d_ML3V6ET65Y",
        "outputId": "3badce01-28c2-4863-c495-6dbece4f2fbb"
      },
      "execution_count": null,
      "outputs": [
        {
          "output_type": "execute_result",
          "data": {
            "text/plain": [
              "                                              tokens  \\\n",
              "0  ['В', 'ЕС', 'ранее', 'отмечали', ',', 'что', '...   \n",
              "1  ['До', 'нового', 'назначения', 'Рааб', 'занима...   \n",
              "2  ['Это', 'противоречит', 'позиции', '\"', 'еарос...   \n",
              "3  ['Асия', 'Биби', 'был', 'приговорена', 'к', 'с...   \n",
              "4  ['<', '…', '>', 'Пакистан', '—', 'это', 'наша'...   \n",
              "\n",
              "                                                 BIO  \n",
              "0  ['O', 'B-ORG', 'O', 'O', 'O', 'O', 'O', 'O', '...  \n",
              "1  ['O', 'O', 'O', 'B-PER', 'O', 'O', 'O', 'B-ORG...  \n",
              "2  ['O', 'O', 'O', 'O', 'O', 'O', 'O', 'O', 'O', ...  \n",
              "3  ['B-PER', 'I-PER', 'O', 'O', 'O', 'O', 'O', 'O...  \n",
              "4  ['O', 'O', 'O', 'B-LOC', 'O', 'O', 'O', 'O', '...  "
            ],
            "text/html": [
              "\n",
              "  <div id=\"df-281fb740-510b-4045-9e4a-882d4db4ee6c\">\n",
              "    <div class=\"colab-df-container\">\n",
              "      <div>\n",
              "<style scoped>\n",
              "    .dataframe tbody tr th:only-of-type {\n",
              "        vertical-align: middle;\n",
              "    }\n",
              "\n",
              "    .dataframe tbody tr th {\n",
              "        vertical-align: top;\n",
              "    }\n",
              "\n",
              "    .dataframe thead th {\n",
              "        text-align: right;\n",
              "    }\n",
              "</style>\n",
              "<table border=\"1\" class=\"dataframe\">\n",
              "  <thead>\n",
              "    <tr style=\"text-align: right;\">\n",
              "      <th></th>\n",
              "      <th>tokens</th>\n",
              "      <th>BIO</th>\n",
              "    </tr>\n",
              "  </thead>\n",
              "  <tbody>\n",
              "    <tr>\n",
              "      <th>0</th>\n",
              "      <td>['В', 'ЕС', 'ранее', 'отмечали', ',', 'что', '...</td>\n",
              "      <td>['O', 'B-ORG', 'O', 'O', 'O', 'O', 'O', 'O', '...</td>\n",
              "    </tr>\n",
              "    <tr>\n",
              "      <th>1</th>\n",
              "      <td>['До', 'нового', 'назначения', 'Рааб', 'занима...</td>\n",
              "      <td>['O', 'O', 'O', 'B-PER', 'O', 'O', 'O', 'B-ORG...</td>\n",
              "    </tr>\n",
              "    <tr>\n",
              "      <th>2</th>\n",
              "      <td>['Это', 'противоречит', 'позиции', '\"', 'еарос...</td>\n",
              "      <td>['O', 'O', 'O', 'O', 'O', 'O', 'O', 'O', 'O', ...</td>\n",
              "    </tr>\n",
              "    <tr>\n",
              "      <th>3</th>\n",
              "      <td>['Асия', 'Биби', 'был', 'приговорена', 'к', 'с...</td>\n",
              "      <td>['B-PER', 'I-PER', 'O', 'O', 'O', 'O', 'O', 'O...</td>\n",
              "    </tr>\n",
              "    <tr>\n",
              "      <th>4</th>\n",
              "      <td>['&lt;', '…', '&gt;', 'Пакистан', '—', 'это', 'наша'...</td>\n",
              "      <td>['O', 'O', 'O', 'B-LOC', 'O', 'O', 'O', 'O', '...</td>\n",
              "    </tr>\n",
              "  </tbody>\n",
              "</table>\n",
              "</div>\n",
              "      <button class=\"colab-df-convert\" onclick=\"convertToInteractive('df-281fb740-510b-4045-9e4a-882d4db4ee6c')\"\n",
              "              title=\"Convert this dataframe to an interactive table.\"\n",
              "              style=\"display:none;\">\n",
              "        \n",
              "  <svg xmlns=\"http://www.w3.org/2000/svg\" height=\"24px\"viewBox=\"0 0 24 24\"\n",
              "       width=\"24px\">\n",
              "    <path d=\"M0 0h24v24H0V0z\" fill=\"none\"/>\n",
              "    <path d=\"M18.56 5.44l.94 2.06.94-2.06 2.06-.94-2.06-.94-.94-2.06-.94 2.06-2.06.94zm-11 1L8.5 8.5l.94-2.06 2.06-.94-2.06-.94L8.5 2.5l-.94 2.06-2.06.94zm10 10l.94 2.06.94-2.06 2.06-.94-2.06-.94-.94-2.06-.94 2.06-2.06.94z\"/><path d=\"M17.41 7.96l-1.37-1.37c-.4-.4-.92-.59-1.43-.59-.52 0-1.04.2-1.43.59L10.3 9.45l-7.72 7.72c-.78.78-.78 2.05 0 2.83L4 21.41c.39.39.9.59 1.41.59.51 0 1.02-.2 1.41-.59l7.78-7.78 2.81-2.81c.8-.78.8-2.07 0-2.86zM5.41 20L4 18.59l7.72-7.72 1.47 1.35L5.41 20z\"/>\n",
              "  </svg>\n",
              "      </button>\n",
              "      \n",
              "  <style>\n",
              "    .colab-df-container {\n",
              "      display:flex;\n",
              "      flex-wrap:wrap;\n",
              "      gap: 12px;\n",
              "    }\n",
              "\n",
              "    .colab-df-convert {\n",
              "      background-color: #E8F0FE;\n",
              "      border: none;\n",
              "      border-radius: 50%;\n",
              "      cursor: pointer;\n",
              "      display: none;\n",
              "      fill: #1967D2;\n",
              "      height: 32px;\n",
              "      padding: 0 0 0 0;\n",
              "      width: 32px;\n",
              "    }\n",
              "\n",
              "    .colab-df-convert:hover {\n",
              "      background-color: #E2EBFA;\n",
              "      box-shadow: 0px 1px 2px rgba(60, 64, 67, 0.3), 0px 1px 3px 1px rgba(60, 64, 67, 0.15);\n",
              "      fill: #174EA6;\n",
              "    }\n",
              "\n",
              "    [theme=dark] .colab-df-convert {\n",
              "      background-color: #3B4455;\n",
              "      fill: #D2E3FC;\n",
              "    }\n",
              "\n",
              "    [theme=dark] .colab-df-convert:hover {\n",
              "      background-color: #434B5C;\n",
              "      box-shadow: 0px 1px 3px 1px rgba(0, 0, 0, 0.15);\n",
              "      filter: drop-shadow(0px 1px 2px rgba(0, 0, 0, 0.3));\n",
              "      fill: #FFFFFF;\n",
              "    }\n",
              "  </style>\n",
              "\n",
              "      <script>\n",
              "        const buttonEl =\n",
              "          document.querySelector('#df-281fb740-510b-4045-9e4a-882d4db4ee6c button.colab-df-convert');\n",
              "        buttonEl.style.display =\n",
              "          google.colab.kernel.accessAllowed ? 'block' : 'none';\n",
              "\n",
              "        async function convertToInteractive(key) {\n",
              "          const element = document.querySelector('#df-281fb740-510b-4045-9e4a-882d4db4ee6c');\n",
              "          const dataTable =\n",
              "            await google.colab.kernel.invokeFunction('convertToInteractive',\n",
              "                                                     [key], {});\n",
              "          if (!dataTable) return;\n",
              "\n",
              "          const docLinkHtml = 'Like what you see? Visit the ' +\n",
              "            '<a target=\"_blank\" href=https://colab.research.google.com/notebooks/data_table.ipynb>data table notebook</a>'\n",
              "            + ' to learn more about interactive tables.';\n",
              "          element.innerHTML = '';\n",
              "          dataTable['output_type'] = 'display_data';\n",
              "          await google.colab.output.renderOutput(dataTable, element);\n",
              "          const docLink = document.createElement('div');\n",
              "          docLink.innerHTML = docLinkHtml;\n",
              "          element.appendChild(docLink);\n",
              "        }\n",
              "      </script>\n",
              "    </div>\n",
              "  </div>\n",
              "  "
            ]
          },
          "metadata": {},
          "execution_count": 24
        }
      ]
    },
    {
      "cell_type": "code",
      "source": [
        "df_bsnlp['BIO'].values[0]"
      ],
      "metadata": {
        "colab": {
          "base_uri": "https://localhost:8080/",
          "height": 35
        },
        "id": "PsAUZxKmVf6D",
        "outputId": "083da41d-0124-425c-c7a7-4c8df1d2e3c6"
      },
      "execution_count": null,
      "outputs": [
        {
          "output_type": "execute_result",
          "data": {
            "text/plain": [
              "\"['O', 'B-ORG', 'O', 'O', 'O', 'O', 'O', 'O', 'O', 'O', 'O', 'O', 'O', 'O', 'O', 'O', 'O', 'O', 'O', 'O', 'O', 'O', 'O', 'O', 'O', 'B-LOC', 'I-LOC', 'O']\""
            ],
            "application/vnd.google.colaboratory.intrinsic+json": {
              "type": "string"
            }
          },
          "metadata": {},
          "execution_count": 25
        }
      ]
    },
    {
      "cell_type": "code",
      "source": [
        "df_bsnlp['BIO'] = df_bsnlp['BIO'].apply(lambda x: preprocess_bio(x))\n",
        "df_bsnlp.head()"
      ],
      "metadata": {
        "colab": {
          "base_uri": "https://localhost:8080/",
          "height": 206
        },
        "id": "aJP2fdr9VZPI",
        "outputId": "aa5d8be5-5e80-4d28-8906-8afcc857edf4"
      },
      "execution_count": null,
      "outputs": [
        {
          "output_type": "execute_result",
          "data": {
            "text/plain": [
              "                                              tokens  \\\n",
              "0  ['В', 'ЕС', 'ранее', 'отмечали', ',', 'что', '...   \n",
              "1  ['До', 'нового', 'назначения', 'Рааб', 'занима...   \n",
              "2  ['Это', 'противоречит', 'позиции', '\"', 'еарос...   \n",
              "3  ['Асия', 'Биби', 'был', 'приговорена', 'к', 'с...   \n",
              "4  ['<', '…', '>', 'Пакистан', '—', 'это', 'наша'...   \n",
              "\n",
              "                                                 BIO  \n",
              "0  [O, B-ORG, O, O, O, O, O, O, O, O, O, O, O, O,...  \n",
              "1  [O, O, O, B-PER, O, O, O, B-ORG, I-ORG, I-ORG, O]  \n",
              "2  [O, O, O, O, O, O, O, O, O, O, O, O, O, O, O, ...  \n",
              "3          [B-PER, I-PER, O, O, O, O, O, O, O, O, O]  \n",
              "4  [O, O, O, B-LOC, O, O, O, O, O, O, B-PER, O, O...  "
            ],
            "text/html": [
              "\n",
              "  <div id=\"df-bd5ed8f8-4311-4d89-bdb0-058246a8ac6b\">\n",
              "    <div class=\"colab-df-container\">\n",
              "      <div>\n",
              "<style scoped>\n",
              "    .dataframe tbody tr th:only-of-type {\n",
              "        vertical-align: middle;\n",
              "    }\n",
              "\n",
              "    .dataframe tbody tr th {\n",
              "        vertical-align: top;\n",
              "    }\n",
              "\n",
              "    .dataframe thead th {\n",
              "        text-align: right;\n",
              "    }\n",
              "</style>\n",
              "<table border=\"1\" class=\"dataframe\">\n",
              "  <thead>\n",
              "    <tr style=\"text-align: right;\">\n",
              "      <th></th>\n",
              "      <th>tokens</th>\n",
              "      <th>BIO</th>\n",
              "    </tr>\n",
              "  </thead>\n",
              "  <tbody>\n",
              "    <tr>\n",
              "      <th>0</th>\n",
              "      <td>['В', 'ЕС', 'ранее', 'отмечали', ',', 'что', '...</td>\n",
              "      <td>[O, B-ORG, O, O, O, O, O, O, O, O, O, O, O, O,...</td>\n",
              "    </tr>\n",
              "    <tr>\n",
              "      <th>1</th>\n",
              "      <td>['До', 'нового', 'назначения', 'Рааб', 'занима...</td>\n",
              "      <td>[O, O, O, B-PER, O, O, O, B-ORG, I-ORG, I-ORG, O]</td>\n",
              "    </tr>\n",
              "    <tr>\n",
              "      <th>2</th>\n",
              "      <td>['Это', 'противоречит', 'позиции', '\"', 'еарос...</td>\n",
              "      <td>[O, O, O, O, O, O, O, O, O, O, O, O, O, O, O, ...</td>\n",
              "    </tr>\n",
              "    <tr>\n",
              "      <th>3</th>\n",
              "      <td>['Асия', 'Биби', 'был', 'приговорена', 'к', 'с...</td>\n",
              "      <td>[B-PER, I-PER, O, O, O, O, O, O, O, O, O]</td>\n",
              "    </tr>\n",
              "    <tr>\n",
              "      <th>4</th>\n",
              "      <td>['&lt;', '…', '&gt;', 'Пакистан', '—', 'это', 'наша'...</td>\n",
              "      <td>[O, O, O, B-LOC, O, O, O, O, O, O, B-PER, O, O...</td>\n",
              "    </tr>\n",
              "  </tbody>\n",
              "</table>\n",
              "</div>\n",
              "      <button class=\"colab-df-convert\" onclick=\"convertToInteractive('df-bd5ed8f8-4311-4d89-bdb0-058246a8ac6b')\"\n",
              "              title=\"Convert this dataframe to an interactive table.\"\n",
              "              style=\"display:none;\">\n",
              "        \n",
              "  <svg xmlns=\"http://www.w3.org/2000/svg\" height=\"24px\"viewBox=\"0 0 24 24\"\n",
              "       width=\"24px\">\n",
              "    <path d=\"M0 0h24v24H0V0z\" fill=\"none\"/>\n",
              "    <path d=\"M18.56 5.44l.94 2.06.94-2.06 2.06-.94-2.06-.94-.94-2.06-.94 2.06-2.06.94zm-11 1L8.5 8.5l.94-2.06 2.06-.94-2.06-.94L8.5 2.5l-.94 2.06-2.06.94zm10 10l.94 2.06.94-2.06 2.06-.94-2.06-.94-.94-2.06-.94 2.06-2.06.94z\"/><path d=\"M17.41 7.96l-1.37-1.37c-.4-.4-.92-.59-1.43-.59-.52 0-1.04.2-1.43.59L10.3 9.45l-7.72 7.72c-.78.78-.78 2.05 0 2.83L4 21.41c.39.39.9.59 1.41.59.51 0 1.02-.2 1.41-.59l7.78-7.78 2.81-2.81c.8-.78.8-2.07 0-2.86zM5.41 20L4 18.59l7.72-7.72 1.47 1.35L5.41 20z\"/>\n",
              "  </svg>\n",
              "      </button>\n",
              "      \n",
              "  <style>\n",
              "    .colab-df-container {\n",
              "      display:flex;\n",
              "      flex-wrap:wrap;\n",
              "      gap: 12px;\n",
              "    }\n",
              "\n",
              "    .colab-df-convert {\n",
              "      background-color: #E8F0FE;\n",
              "      border: none;\n",
              "      border-radius: 50%;\n",
              "      cursor: pointer;\n",
              "      display: none;\n",
              "      fill: #1967D2;\n",
              "      height: 32px;\n",
              "      padding: 0 0 0 0;\n",
              "      width: 32px;\n",
              "    }\n",
              "\n",
              "    .colab-df-convert:hover {\n",
              "      background-color: #E2EBFA;\n",
              "      box-shadow: 0px 1px 2px rgba(60, 64, 67, 0.3), 0px 1px 3px 1px rgba(60, 64, 67, 0.15);\n",
              "      fill: #174EA6;\n",
              "    }\n",
              "\n",
              "    [theme=dark] .colab-df-convert {\n",
              "      background-color: #3B4455;\n",
              "      fill: #D2E3FC;\n",
              "    }\n",
              "\n",
              "    [theme=dark] .colab-df-convert:hover {\n",
              "      background-color: #434B5C;\n",
              "      box-shadow: 0px 1px 3px 1px rgba(0, 0, 0, 0.15);\n",
              "      filter: drop-shadow(0px 1px 2px rgba(0, 0, 0, 0.3));\n",
              "      fill: #FFFFFF;\n",
              "    }\n",
              "  </style>\n",
              "\n",
              "      <script>\n",
              "        const buttonEl =\n",
              "          document.querySelector('#df-bd5ed8f8-4311-4d89-bdb0-058246a8ac6b button.colab-df-convert');\n",
              "        buttonEl.style.display =\n",
              "          google.colab.kernel.accessAllowed ? 'block' : 'none';\n",
              "\n",
              "        async function convertToInteractive(key) {\n",
              "          const element = document.querySelector('#df-bd5ed8f8-4311-4d89-bdb0-058246a8ac6b');\n",
              "          const dataTable =\n",
              "            await google.colab.kernel.invokeFunction('convertToInteractive',\n",
              "                                                     [key], {});\n",
              "          if (!dataTable) return;\n",
              "\n",
              "          const docLinkHtml = 'Like what you see? Visit the ' +\n",
              "            '<a target=\"_blank\" href=https://colab.research.google.com/notebooks/data_table.ipynb>data table notebook</a>'\n",
              "            + ' to learn more about interactive tables.';\n",
              "          element.innerHTML = '';\n",
              "          dataTable['output_type'] = 'display_data';\n",
              "          await google.colab.output.renderOutput(dataTable, element);\n",
              "          const docLink = document.createElement('div');\n",
              "          docLink.innerHTML = docLinkHtml;\n",
              "          element.appendChild(docLink);\n",
              "        }\n",
              "      </script>\n",
              "    </div>\n",
              "  </div>\n",
              "  "
            ]
          },
          "metadata": {},
          "execution_count": 26
        }
      ]
    },
    {
      "cell_type": "code",
      "source": [
        "len(df_bsnlp)"
      ],
      "metadata": {
        "colab": {
          "base_uri": "https://localhost:8080/"
        },
        "id": "35eDdzVLT61-",
        "outputId": "4b4a9d21-9cfc-43f5-9521-203def9361d9"
      },
      "execution_count": null,
      "outputs": [
        {
          "output_type": "execute_result",
          "data": {
            "text/plain": [
              "5614"
            ]
          },
          "metadata": {},
          "execution_count": 27
        }
      ]
    },
    {
      "cell_type": "markdown",
      "source": [
        "## Всякие статистики"
      ],
      "metadata": {
        "id": "lTW8xejRGB-F"
      }
    },
    {
      "cell_type": "code",
      "source": [
        "def num_of_tokens(df): \n",
        "    regex = re.compile('[a-zA-ZА-Яа-я0-9.,!?...*^%#_=-]+')\n",
        "\n",
        "    cnt_tokens = 0 \n",
        "    for text in df['tokens'].values: \n",
        "        text = regex.findall(text) \n",
        "        cnt_tokens += len(text)\n",
        "\n",
        "    return cnt_tokens"
      ],
      "metadata": {
        "id": "jFaAqUlbUOsO"
      },
      "execution_count": null,
      "outputs": []
    },
    {
      "cell_type": "code",
      "source": [
        "def all_entities(df): \n",
        "    entities_set = set() \n",
        "    for bio in df['BIO'].values: \n",
        "        for tag in bio: \n",
        "            entities_set.add(tag.split('-')[-1]) \n",
        "\n",
        "    return list(entities_set) "
      ],
      "metadata": {
        "id": "yKZkatHIVTK6"
      },
      "execution_count": null,
      "outputs": []
    },
    {
      "cell_type": "markdown",
      "source": [
        "### Все количества "
      ],
      "metadata": {
        "id": "LkcmxXMeuR0r"
      }
    },
    {
      "cell_type": "code",
      "source": [
        "# количество уникальных токенов \n",
        "\n",
        "print(f'Уникальных токенов в FactRu: {num_of_tokens(df_factru)}') \n",
        "print(f'Уникальных токенов в bsnlp: {num_of_tokens(df_bsnlp)}') \n",
        "print(f'Уникальных токенов в ne5: {num_of_tokens(df_ne5)}')  \n",
        "print(f'Уникальных токенов в размечено: {num_of_tokens(df_prozhito)}')  "
      ],
      "metadata": {
        "id": "fnD6Run6uVH7",
        "colab": {
          "base_uri": "https://localhost:8080/"
        },
        "outputId": "02e0c24b-7f0f-48da-a10a-bb9159a4d75f"
      },
      "execution_count": null,
      "outputs": [
        {
          "output_type": "stream",
          "name": "stdout",
          "text": [
            "Уникальных токенов в FactRu: 170341\n",
            "Уникальных токенов в bsnlp: 205037\n",
            "Уникальных токенов в ne5: 504141\n",
            "Уникальных токенов в размечено: 21825\n"
          ]
        }
      ]
    },
    {
      "cell_type": "code",
      "source": [
        "# все сущности \n",
        "\n",
        "print(f'Сущности в FactRu: {all_entities(df_factru)}') \n",
        "print(f'Сущности в bsnlp: {all_entities(df_bsnlp)}') \n",
        "print(f'Сущности в ne5: {all_entities(df_ne5)}') "
      ],
      "metadata": {
        "id": "CW9cTbbnW7Dg"
      },
      "execution_count": null,
      "outputs": []
    },
    {
      "cell_type": "markdown",
      "source": [
        "### Плотность сущностей "
      ],
      "metadata": {
        "id": "l_TWOchEOvBC"
      }
    },
    {
      "cell_type": "code",
      "source": [
        "def entities_density(BIO):\n",
        "    cnt_all_tokens = 0 \n",
        "    cnt_entities = 0 \n",
        "\n",
        "    regex = re.compile('[A-Z]-[A-Z]+') \n",
        "    for bio in BIO: \n",
        "        cnt_all_tokens += len(bio) \n",
        "\n",
        "        joined_bio = ', '.join(bio) \n",
        "        cnt_entities += len(regex.findall(joined_bio))\n",
        "\n",
        "    return cnt_entities / cnt_all_tokens"
      ],
      "metadata": {
        "id": "un3nfGT_FnWp"
      },
      "execution_count": null,
      "outputs": []
    },
    {
      "cell_type": "code",
      "source": [
        "bio = df_prozhito['BIO'].values[3]\n",
        "bio"
      ],
      "metadata": {
        "colab": {
          "base_uri": "https://localhost:8080/"
        },
        "id": "pcyaE3OUNMgU",
        "outputId": "dc699fc9-1e54-48bd-8f93-ebf91751fdb9"
      },
      "execution_count": null,
      "outputs": [
        {
          "output_type": "execute_result",
          "data": {
            "text/plain": [
              "['O',\n",
              " 'O',\n",
              " 'O',\n",
              " 'O',\n",
              " 'B-PER',\n",
              " 'I-PER',\n",
              " 'I-PER',\n",
              " 'I-PER',\n",
              " 'I-PER',\n",
              " 'O',\n",
              " 'O',\n",
              " 'B-CHAR',\n",
              " 'B-CHAR',\n",
              " 'B-PER',\n",
              " 'I-PER',\n",
              " 'O',\n",
              " 'O',\n",
              " 'O',\n",
              " 'B-LOC',\n",
              " 'O',\n",
              " 'O',\n",
              " 'O',\n",
              " 'O',\n",
              " 'O',\n",
              " 'O']"
            ]
          },
          "metadata": {},
          "execution_count": 55
        }
      ]
    },
    {
      "cell_type": "code",
      "source": [
        "density_prozhito = round(entities_density(df_prozhito['BIO'].values), 3)\n",
        "print(f'Плотность сущностей в Размечено: {density_prozhito}')"
      ],
      "metadata": {
        "colab": {
          "base_uri": "https://localhost:8080/"
        },
        "id": "kWNFa3P0NXQn",
        "outputId": "1cde287b-cc35-4aeb-9994-470d2637612c"
      },
      "execution_count": null,
      "outputs": [
        {
          "output_type": "stream",
          "name": "stdout",
          "text": [
            "Плотность сущностей в Размечено: 0.05\n"
          ]
        }
      ]
    },
    {
      "cell_type": "code",
      "source": [
        "density_factru = round(entities_density(df_factru['BIO'].values), 3)\n",
        "print(f'Плотность сущностей в FactRu: {density_factru}')"
      ],
      "metadata": {
        "colab": {
          "base_uri": "https://localhost:8080/"
        },
        "id": "dyQjUFcYNtnL",
        "outputId": "5338d9d3-e886-4889-a444-b345c943d012"
      },
      "execution_count": null,
      "outputs": [
        {
          "output_type": "stream",
          "name": "stdout",
          "text": [
            "Плотность сущностей в FactRu: 0.101\n"
          ]
        }
      ]
    },
    {
      "cell_type": "markdown",
      "source": [
        "### Пересечение по топ-5000 самым частым словам (lower case и лемматизированные)"
      ],
      "metadata": {
        "id": "C8LOiqr6W7Ow"
      }
    },
    {
      "cell_type": "code",
      "source": [
        "!pip install pymorphy2"
      ],
      "metadata": {
        "colab": {
          "base_uri": "https://localhost:8080/"
        },
        "id": "5ZacIy1_oRkJ",
        "outputId": "2fa71eba-373d-40b7-e9cf-3d36e1575103"
      },
      "execution_count": null,
      "outputs": [
        {
          "output_type": "stream",
          "name": "stdout",
          "text": [
            "Collecting pymorphy2\n",
            "  Downloading pymorphy2-0.9.1-py3-none-any.whl (55 kB)\n",
            "\u001b[?25l\r\u001b[K     |██████                          | 10 kB 15.0 MB/s eta 0:00:01\r\u001b[K     |███████████▉                    | 20 kB 17.5 MB/s eta 0:00:01\r\u001b[K     |█████████████████▊              | 30 kB 21.1 MB/s eta 0:00:01\r\u001b[K     |███████████████████████▋        | 40 kB 24.4 MB/s eta 0:00:01\r\u001b[K     |█████████████████████████████▌  | 51 kB 27.3 MB/s eta 0:00:01\r\u001b[K     |████████████████████████████████| 55 kB 3.2 MB/s \n",
            "\u001b[?25hRequirement already satisfied: docopt>=0.6 in /usr/local/lib/python3.7/dist-packages (from pymorphy2) (0.6.2)\n",
            "Collecting pymorphy2-dicts-ru<3.0,>=2.4\n",
            "  Downloading pymorphy2_dicts_ru-2.4.417127.4579844-py2.py3-none-any.whl (8.2 MB)\n",
            "\u001b[K     |████████████████████████████████| 8.2 MB 39.3 MB/s \n",
            "\u001b[?25hCollecting dawg-python>=0.7.1\n",
            "  Downloading DAWG_Python-0.7.2-py2.py3-none-any.whl (11 kB)\n",
            "Installing collected packages: pymorphy2-dicts-ru, dawg-python, pymorphy2\n",
            "Successfully installed dawg-python-0.7.2 pymorphy2-0.9.1 pymorphy2-dicts-ru-2.4.417127.4579844\n"
          ]
        }
      ]
    },
    {
      "cell_type": "code",
      "source": [
        "import pymorphy2 \n",
        "morph = pymorphy2.MorphAnalyzer() "
      ],
      "metadata": {
        "id": "oTh-PZtzoWEE"
      },
      "execution_count": null,
      "outputs": []
    },
    {
      "cell_type": "code",
      "source": [
        "import nltk \n",
        "from nltk.corpus import stopwords\n",
        "from nltk import FreqDist \n",
        "nltk.download('stopwords')\n",
        "\n",
        "stopwords_set = set(stopwords.words('russian'))"
      ],
      "metadata": {
        "colab": {
          "base_uri": "https://localhost:8080/"
        },
        "id": "zgaukjKOoa77",
        "outputId": "a683a0b5-1702-4b8e-f957-6083a03ce2c5"
      },
      "execution_count": null,
      "outputs": [
        {
          "output_type": "stream",
          "name": "stdout",
          "text": [
            "[nltk_data] Downloading package stopwords to /root/nltk_data...\n",
            "[nltk_data]   Package stopwords is already up-to-date!\n"
          ]
        }
      ]
    },
    {
      "cell_type": "code",
      "source": [
        "def find_all_words(texts):\n",
        "    regex = re.compile('\\w+')\n",
        "\n",
        "    texts_only_words = []  \n",
        "    for text in texts: \n",
        "        texts_only_words.append(regex.findall(text.lower())) \n",
        "\n",
        "    return texts_only_words \n",
        "\n",
        "\n",
        "def lemmatize_freq(texts, lemmer=morph, stopwords=stopwords_set):\n",
        "    freq = FreqDist() \n",
        "    texts = find_all_words(texts) \n",
        "\n",
        "    new_texts = [] \n",
        "    for text in texts: \n",
        "        lemmas = [lemmer.parse(w)[0].normal_form for w in text if w.isalpha()]\n",
        "        new_text = [] \n",
        "\n",
        "        for word in lemmas: \n",
        "            if word not in stopwords: \n",
        "                new_text.append(word) \n",
        "                freq[word] += 1\n",
        "\n",
        "        new_texts.append(new_text) \n",
        "\n",
        "    return new_texts, freq"
      ],
      "metadata": {
        "id": "4LUslfULniok"
      },
      "execution_count": null,
      "outputs": []
    },
    {
      "cell_type": "code",
      "source": [
        "prozhito_texts = df_prozhito['tokens'].values \n",
        "prozhito_lemmatized_texts, freq_prozhito = lemmatize_freq(prozhito_texts)"
      ],
      "metadata": {
        "id": "tvVJPfJHXJWB"
      },
      "execution_count": null,
      "outputs": []
    },
    {
      "cell_type": "code",
      "source": [
        "factru_texts = df_factru['tokens'].values \n",
        "factru_lemmatized_texts, freq_factru = lemmatize_freq(factru_texts)"
      ],
      "metadata": {
        "id": "j4NgruDnqOHA"
      },
      "execution_count": null,
      "outputs": []
    },
    {
      "cell_type": "code",
      "source": [
        "prozhito_freq_5000 = set(dict(freq_prozhito.most_common(4000)).keys()) \n",
        "factru_freq_5000 = set(dict(freq_factru.most_common(4000)).keys()) "
      ],
      "metadata": {
        "id": "nYsCA_Pyrdrd"
      },
      "execution_count": null,
      "outputs": []
    },
    {
      "cell_type": "code",
      "source": [
        "len(prozhito_freq_5000.intersection(factru_freq_5000))"
      ],
      "metadata": {
        "colab": {
          "base_uri": "https://localhost:8080/"
        },
        "id": "wj80DvgNrmUQ",
        "outputId": "5a7a6df1-3f9c-4cce-f576-9458ad825659"
      },
      "execution_count": null,
      "outputs": [
        {
          "output_type": "execute_result",
          "data": {
            "text/plain": [
              "1483"
            ]
          },
          "metadata": {},
          "execution_count": 111
        }
      ]
    },
    {
      "cell_type": "code",
      "source": [
        "print(f'Процент пересечения топ-4000 по встречаемости слов в датасетах: {(len(prozhito_freq_5000.intersection(factru_freq_5000)) / 4000) * 100}%')"
      ],
      "metadata": {
        "colab": {
          "base_uri": "https://localhost:8080/"
        },
        "id": "CEq1xo9mshos",
        "outputId": "fbbb74b8-5c0c-4372-8e0d-b5bd99466203"
      },
      "execution_count": null,
      "outputs": [
        {
          "output_type": "stream",
          "name": "stdout",
          "text": [
            "Процент пересечения топ-4000 по встречаемости слов в датасетах: 37.075%\n"
          ]
        }
      ]
    },
    {
      "cell_type": "code",
      "source": [
        ""
      ],
      "metadata": {
        "id": "eXd13tXytABz"
      },
      "execution_count": null,
      "outputs": []
    }
  ]
}